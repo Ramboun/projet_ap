{
 "cells": [
  {
   "cell_type": "code",
   "execution_count": 1,
   "metadata": {},
   "outputs": [
    {
     "name": "stdout",
     "output_type": "stream",
     "text": [
      "Using matplotlib backend: Qt5Agg\n"
     ]
    }
   ],
   "source": [
    "%matplotlib\n",
    "\n",
    "import re\n",
    "import copy\n",
    "import sys\n",
    "from enum import Enum\n",
    "import matplotlib.pyplot as plt\n",
    "import time\n",
    "import numpy as np\n",
    "import random\n",
    "import plotly.figure_factory as ff"
   ]
  },
  {
   "cell_type": "code",
   "execution_count": 146,
   "metadata": {},
   "outputs": [],
   "source": [
    "instances_path = 'JSPLIB/instances/'\n",
    "instance_path = instances_path + 'ft06'\n",
    "\n",
    "def SPT(possible_tasks):\n",
    "    smallest_duration = sys.maxsize\n",
    "    best_task = None\n",
    "    for t in possible_tasks:\n",
    "        if t.duration < smallest_duration:\n",
    "            smallest_duration = t.duration\n",
    "            best_task = t\n",
    "    return best_task\n",
    "\n",
    "def LPT(possible_tasks):\n",
    "    smallest_duration = 0\n",
    "    best_task = None\n",
    "    for t in possible_tasks:\n",
    "        if t.duration > smallest_duration:\n",
    "            smallest_duration = t.duration\n",
    "            best_task = t\n",
    "    return best_task\n",
    "\n",
    "class STATE(Enum):\n",
    "    NOT_DONE = '--'\n",
    "    ON_GOING = '+/-' \n",
    "    DONE = '++'\n",
    "   \n",
    "class Task:   \n",
    "    def __init__(self,ressource,duration,job_num):\n",
    "        self.res = ressource\n",
    "        self.job_num = job_num\n",
    "        self.duration = duration\n",
    "        self.state = STATE.NOT_DONE\n",
    "        self.start_time = None\n",
    "        self.possible_start_time = 0 #Utile pour la contruction du Gantt\n",
    "        \n",
    "    def reset(self):\n",
    "        self.state = STATE.NOT_DONE\n",
    "        self.start_time = None\n",
    "        self.possible_start_time = 0\n",
    "        \n",
    "    def to_string(self):\n",
    "        return str(self.res) + \" \" + str(self.duration)\n",
    "\n",
    "    def start(self,time):\n",
    "        self.start_time = time\n",
    "        self.state = STATE.ON_GOING\n",
    "        \n",
    "    def start_possible_time(self):\n",
    "        self.start_time = self.possible_start_time\n",
    "                \n",
    "    def update_possible_start_time(self,time):\n",
    "        if(self.possible_start_time < time):\n",
    "            self.possible_start_time = time\n",
    "    \n",
    "    def update(self,time):\n",
    "        if(self.state == STATE.ON_GOING):\n",
    "            if time >= self.start_time + self.duration:\n",
    "                self.state = STATE.DONE\n",
    "                return self.res\n",
    "        return -1\n",
    "                \n",
    "    def is_done(self):\n",
    "        return self.state == STATE.DONE\n",
    "        \n",
    "class Job:\n",
    "    def __init__(self,job_num):\n",
    "        self.tasks = []\n",
    "        self.num = job_num\n",
    "        \n",
    "    def reset(self):\n",
    "        for t in self.tasks:\n",
    "            t.reset()\n",
    "        \n",
    "    def init_possible_start(self):\n",
    "        delay = 0\n",
    "        for t in self.tasks:\n",
    "            t.possible_start= delay\n",
    "            delay = delay + t.duration\n",
    "        \n",
    "    def add_task(self,task):\n",
    "        self.tasks.append(task)\n",
    "        \n",
    "    def to_string(self):\n",
    "        res = \"|\"\n",
    "        for t in self.tasks:\n",
    "            res = res + \" \" + '{:^6}'.format(t.to_string()) + \" |\" \n",
    "        return res\n",
    "    \n",
    "    def get_next_task(self):\n",
    "        on_going = [task for task in self.tasks if task.state == STATE.ON_GOING]\n",
    "        if  len(on_going) == 0:\n",
    "            not_done_tasks = [task for task in self.tasks if task.state == STATE.NOT_DONE]\n",
    "            if(len(not_done_tasks) != 0):\n",
    "                return not_done_tasks[0]\n",
    "            else:\n",
    "                return None\n",
    "        \n",
    "    def start_next_task(self,time):\n",
    "        t = next(task for task in self.tasks if task.state == STATE.NOT_DONE)\n",
    "        if t != None:\n",
    "            t.start(time)\n",
    "            return t.res\n",
    "        \n",
    "    def start_task_at_possible_time(self,task_ind):\n",
    "        t = self.tasks[task_ind]\n",
    "        t.start_possible_time()\n",
    "        delay=t.duration + t.start_time\n",
    "        for i in range(task_ind+1, len(self.tasks)):\n",
    "            self.tasks[i].update_possible_start_time(delay)\n",
    "            delay = delay + self.tasks[i].duration\n",
    "        return t.res, t.start_time, t.duration+t.start_time\n",
    "    \n",
    "    def update_possible_time_by_ressource(self,ressource,time):\n",
    "        for t in self.tasks:\n",
    "            if(t.res == ressource):\n",
    "                t.update_possible_start_time(time)\n",
    "        \n",
    "    def update(self,time):\n",
    "        res_to_free = []\n",
    "        for t in self.tasks:\n",
    "            res_to_free.append(t.update(time))\n",
    "        return res_to_free\n",
    "            \n",
    "    def is_done(self):\n",
    "        done = True\n",
    "        for t in self.tasks:\n",
    "            done = done & t.is_done()\n",
    "        return done\n",
    "    \n",
    "    def get_end_time(self):\n",
    "        return self.tasks[-1].start_time + self.tasks[-1].duration\n",
    "        \n",
    "class Instance_heuristic:\n",
    "    def __init__(self,n_machines,jobs):\n",
    "        self.n_machines = n_machines   \n",
    "        self.jobs=jobs\n",
    "        self.machines_availability = [True]*n_machines\n",
    "        self.time = 0\n",
    "        self.repetition_order = []\n",
    "\n",
    "    def get_max_tasks(self):\n",
    "        nb_max=0\n",
    "        for j in self.jobs:\n",
    "            if(len(j.tasks)>nb_max):\n",
    "                nb_max = len(j.tasks)\n",
    "        return nb_max\n",
    "    \n",
    "    def check_possible_tasks(self):\n",
    "        possible_tasks = []\n",
    "        for j in self.jobs:\n",
    "            next_task = j.get_next_task()\n",
    "            if(next_task != None):\n",
    "                if(self.machines_availability[next_task.res]):\n",
    "                    possible_tasks = possible_tasks + [next_task]\n",
    "        return possible_tasks\n",
    "    \n",
    "    def display_jobs(self):\n",
    "        max_tasks_per_job = 0\n",
    "        for j in self.jobs:\n",
    "            if(max_tasks_per_job < len(j.tasks)):\n",
    "                max_tasks_per_job = len(j.tasks)\n",
    "        header=\" \"\n",
    "        for t in range(max_tasks_per_job):\n",
    "            header = header + \" \" + '{:^6}'.format(\"R D\") + \"  \" \n",
    "        print(header)\n",
    "        for j in self.jobs:\n",
    "            print(j.to_string())\n",
    "            \n",
    "    def get_state_matrix(self):\n",
    "        m = np.zeros((len(self.jobs),self.get_max_tasks()))\n",
    "        for j_num,j in enumerate(self.jobs):\n",
    "            red_tasks=[]\n",
    "            orange_tasks=[]\n",
    "            green_tasks=[]\n",
    "            for i,t in enumerate(j.tasks):\n",
    "                if(t.state == STATE.ON_GOING):     \n",
    "                    m[j_num][i] = 0             \n",
    "                elif(t.state == STATE.DONE):\n",
    "                    m[j_num][i] = 1           \n",
    "                else:\n",
    "                    m[j_num][i] = -1 \n",
    "        return m\n",
    "            \n",
    "        \n",
    "    def get_all_tasks(self):\n",
    "        all_tasks = []\n",
    "        for j in self.jobs:\n",
    "            all_tasks = all_tasks + j.tasks\n",
    "        return all_tasks\n",
    "    \n",
    "    def time_forward(self):\n",
    "        self.time = self.time + 1\n",
    "        for j in self.jobs:\n",
    "            res_to_free = j.update(self.time)\n",
    "            \n",
    "            for r in res_to_free:\n",
    "                if(r != -1):\n",
    "                    self.machines_availability[r] = True\n",
    "        \n",
    "            \n",
    "    def start_job(self,job_num):\n",
    "        res_used = self.jobs[job_num].start_next_task(self.time)\n",
    "        self.machines_availability[res_used] = False\n",
    "        \n",
    "    def is_done(self):\n",
    "        done = True\n",
    "        for j in self.jobs:\n",
    "            done = done & j.is_done()\n",
    "        return done\n",
    "    \n",
    "    def start_heuristic(self,fct=SPT,rand=0,display=False):\n",
    "        if(display):\n",
    "            matrix_state = self.get_state_matrix()\n",
    "            fig, ax = plt.subplots()\n",
    "            grid_x=[i+0.5 for i in range(matrix_state.shape[1])]\n",
    "            ax.set_xticks(grid_x,minor=True)\n",
    "            grid_y=[i+0.5 for i in range(matrix_state.shape[0])]\n",
    "            ax.set_yticks(grid_y,minor=True)\n",
    "            ax.grid(which='minor')\n",
    "            ax.matshow(matrix_state, cmap='RdYlGn', vmin=-1, vmax=1)\n",
    "            for i,jb in enumerate(self.jobs):\n",
    "                for j,t in enumerate(jb.tasks):\n",
    "                    text = ax.text(j, i, t.res,ha=\"center\", va=\"center\", color='black', fontsize=16)\n",
    "            plt.xlabel('Tasks')\n",
    "            plt.ylabel('Jobs')\n",
    "            \n",
    "        while not self.is_done():\n",
    "            possible_tasks = self.check_possible_tasks()\n",
    "            if(len(possible_tasks) > 0):\n",
    "                if(random.random()<rand):\n",
    "                    highest_prio_task = random.choice(possible_tasks)\n",
    "                else:\n",
    "                    highest_prio_task = fct(possible_tasks)\n",
    "                self.start_job(highest_prio_task.job_num)\n",
    "                self.repetition_order.append(highest_prio_task.job_num)\n",
    "            else:\n",
    "                self.time_forward()\n",
    "                \n",
    "                if(display):\n",
    "                    matrix_state = self.get_state_matrix()\n",
    "                    ax.matshow(matrix_state, cmap='RdYlGn', vmin=-1, vmax=1)\n",
    "                    ax.set_title(\"TIME : \"+str(self.time))\n",
    "                    plt.pause(0.01)\n",
    "  \n"
   ]
  },
  {
   "cell_type": "code",
   "execution_count": 147,
   "metadata": {},
   "outputs": [
    {
     "data": {
      "text/plain": [
       "[['2', '1', '0', '3', '1', '6', '3', '7', '5', '3', '4', '6'],\n",
       " ['1', '8', '2', '5', '4', '10', '5', '10', '0', '10', '3', '4'],\n",
       " ['2', '5', '3', '4', '5', '8', '0', '9', '1', '1', '4', '7'],\n",
       " ['1', '5', '0', '5', '2', '5', '3', '3', '4', '8', '5', '9'],\n",
       " ['2', '9', '1', '3', '4', '5', '5', '4', '0', '3', '3', '1'],\n",
       " ['1', '3', '3', '3', '5', '9', '0', '10', '4', '4', '2', '1']]"
      ]
     },
     "execution_count": 147,
     "metadata": {},
     "output_type": "execute_result"
    }
   ],
   "source": [
    "list_jobs = []\n",
    "n_machines = 0\n",
    "n_jobs = 0\n",
    "# Lecture de l'instance\n",
    "with open(instance_path,'r') as f:\n",
    "    num_line = 0\n",
    "    for line in f:\n",
    "        if(line[0] != '#'):\n",
    "            \n",
    "            re_line = re.sub(' +',';',line)\n",
    "            re_line = re.sub('\\\\n','',re_line)\n",
    "            split_line = re_line.split(';')\n",
    "            if (num_line == 0):\n",
    "                n_machines = int(split_line[1])\n",
    "                n_jobs = int(split_line[0])\n",
    "            else:\n",
    "                list_jobs.append(split_line)\n",
    "            num_line = num_line+1\n",
    "list_jobs"
   ]
  },
  {
   "cell_type": "code",
   "execution_count": 148,
   "metadata": {},
   "outputs": [],
   "source": [
    "# Création des jobs à partir des listes précédentes\n",
    "jobs = []\n",
    "for i in range(n_machines):\n",
    "    job = Job(i)\n",
    "    for j in range(0,2*n_jobs,2):\n",
    "        job.add_task(Task(int(list_jobs[i][j]),int(list_jobs[i][j+1]),i))\n",
    "    jobs.append(job)\n",
    "    \n",
    "instance = Instance_heuristic(n_machines,jobs)"
   ]
  },
  {
   "cell_type": "code",
   "execution_count": 149,
   "metadata": {},
   "outputs": [
    {
     "name": "stdout",
     "output_type": "stream",
     "text": [
      "Nombre de machines :  6\n",
      "Nombre de jobs :  6\n",
      "Taches : \n",
      "   R D      R D      R D      R D      R D      R D    \n",
      "|  2 1   |  0 3   |  1 6   |  3 7   |  5 3   |  4 6   |\n",
      "|  1 8   |  2 5   |  4 10  |  5 10  |  0 10  |  3 4   |\n",
      "|  2 5   |  3 4   |  5 8   |  0 9   |  1 1   |  4 7   |\n",
      "|  1 5   |  0 5   |  2 5   |  3 3   |  4 8   |  5 9   |\n",
      "|  2 9   |  1 3   |  4 5   |  5 4   |  0 3   |  3 1   |\n",
      "|  1 3   |  3 3   |  5 9   |  0 10  |  4 4   |  2 1   |\n"
     ]
    }
   ],
   "source": [
    "\n",
    "\n",
    "print(\"Nombre de machines : \",instance.n_machines)\n",
    "print('Nombre de jobs : ',len(instance.jobs))\n",
    "print('Taches : ')\n",
    "instance.display_jobs()"
   ]
  },
  {
   "cell_type": "code",
   "execution_count": 150,
   "metadata": {
    "scrolled": true
   },
   "outputs": [
    {
     "name": "stdout",
     "output_type": "stream",
     "text": [
      "[4, 1, 3, 1, 3, 4, 1, 2, 5, 3, 2, 2, 5, 4, 0, 0, 3, 0, 3, 1, 2, 0, 2, 1, 3, 2, 5, 1, 5, 4, 0, 0, 4, 5, 4, 5]\n"
     ]
    }
   ],
   "source": [
    "instance.start_heuristic(fct=LPT,rand=0,display=False)\n",
    "print(instance.repetition_order)"
   ]
  },
  {
   "cell_type": "code",
   "execution_count": 151,
   "metadata": {},
   "outputs": [
    {
     "name": "stdout",
     "output_type": "stream",
     "text": [
      "77\n"
     ]
    }
   ],
   "source": [
    "print(instance.time)"
   ]
  },
  {
   "cell_type": "code",
   "execution_count": 169,
   "metadata": {
    "scrolled": false
   },
   "outputs": [
    {
     "name": "stdout",
     "output_type": "stream",
     "text": [
      "[4, 1, 3, 1, 3, 4, 1, 2, 5, 3, 2, 2, 5, 4, 0, 0, 3, 0, 3, 1, 2, 0, 2, 1, 3, 2, 5, 1, 5, 4, 0, 0, 4, 5, 4, 5]\n"
     ]
    },
    {
     "data": {
      "application/vnd.plotly.v1+json": {
       "config": {
        "linkText": "Export to plot.ly",
        "plotlyServerURL": "https://plot.ly",
        "showLink": false
       },
       "data": [
        {
         "base": 0,
         "marker": {
          "color": "dodgerblue"
         },
         "name": "2",
         "orientation": "h",
         "showlegend": true,
         "type": "bar",
         "x": [
          9
         ],
         "y": [
          "Job 4"
         ]
        },
        {
         "base": 0,
         "marker": {
          "color": "seagreen"
         },
         "name": "1",
         "orientation": "h",
         "showlegend": true,
         "type": "bar",
         "x": [
          8
         ],
         "y": [
          "Job 1"
         ]
        },
        {
         "base": 8,
         "marker": {
          "color": "seagreen"
         },
         "name": "1",
         "orientation": "h",
         "showlegend": false,
         "type": "bar",
         "x": [
          5
         ],
         "y": [
          "Job 3"
         ]
        },
        {
         "base": 9,
         "marker": {
          "color": "dodgerblue"
         },
         "name": "2",
         "orientation": "h",
         "showlegend": false,
         "type": "bar",
         "x": [
          5
         ],
         "y": [
          "Job 1"
         ]
        },
        {
         "base": 13,
         "marker": {
          "color": "sienna"
         },
         "name": "0",
         "orientation": "h",
         "showlegend": true,
         "type": "bar",
         "x": [
          5
         ],
         "y": [
          "Job 3"
         ]
        },
        {
         "base": 13,
         "marker": {
          "color": "seagreen"
         },
         "name": "1",
         "orientation": "h",
         "showlegend": false,
         "type": "bar",
         "x": [
          3
         ],
         "y": [
          "Job 4"
         ]
        },
        {
         "base": 14,
         "marker": {
          "color": "turquoise"
         },
         "name": "4",
         "orientation": "h",
         "showlegend": true,
         "type": "bar",
         "x": [
          10
         ],
         "y": [
          "Job 1"
         ]
        },
        {
         "base": 14,
         "marker": {
          "color": "dodgerblue"
         },
         "name": "2",
         "orientation": "h",
         "showlegend": false,
         "type": "bar",
         "x": [
          5
         ],
         "y": [
          "Job 2"
         ]
        },
        {
         "base": 16,
         "marker": {
          "color": "seagreen"
         },
         "name": "1",
         "orientation": "h",
         "showlegend": false,
         "type": "bar",
         "x": [
          3
         ],
         "y": [
          "Job 5"
         ]
        },
        {
         "base": 19,
         "marker": {
          "color": "dodgerblue"
         },
         "name": "2",
         "orientation": "h",
         "showlegend": false,
         "type": "bar",
         "x": [
          5
         ],
         "y": [
          "Job 3"
         ]
        },
        {
         "base": 19,
         "marker": {
          "color": "orchid"
         },
         "name": "3",
         "orientation": "h",
         "showlegend": true,
         "type": "bar",
         "x": [
          4
         ],
         "y": [
          "Job 2"
         ]
        },
        {
         "base": 23,
         "marker": {
          "color": "gold"
         },
         "name": "5",
         "orientation": "h",
         "showlegend": true,
         "type": "bar",
         "x": [
          8
         ],
         "y": [
          "Job 2"
         ]
        },
        {
         "base": 23,
         "marker": {
          "color": "orchid"
         },
         "name": "3",
         "orientation": "h",
         "showlegend": false,
         "type": "bar",
         "x": [
          3
         ],
         "y": [
          "Job 5"
         ]
        },
        {
         "base": 24,
         "marker": {
          "color": "turquoise"
         },
         "name": "4",
         "orientation": "h",
         "showlegend": false,
         "type": "bar",
         "x": [
          5
         ],
         "y": [
          "Job 4"
         ]
        },
        {
         "base": 24,
         "marker": {
          "color": "dodgerblue"
         },
         "name": "2",
         "orientation": "h",
         "showlegend": false,
         "type": "bar",
         "x": [
          1
         ],
         "y": [
          "Job 0"
         ]
        },
        {
         "base": 25,
         "marker": {
          "color": "sienna"
         },
         "name": "0",
         "orientation": "h",
         "showlegend": false,
         "type": "bar",
         "x": [
          3
         ],
         "y": [
          "Job 0"
         ]
        },
        {
         "base": 26,
         "marker": {
          "color": "orchid"
         },
         "name": "3",
         "orientation": "h",
         "showlegend": false,
         "type": "bar",
         "x": [
          3
         ],
         "y": [
          "Job 3"
         ]
        },
        {
         "base": 28,
         "marker": {
          "color": "seagreen"
         },
         "name": "1",
         "orientation": "h",
         "showlegend": false,
         "type": "bar",
         "x": [
          6
         ],
         "y": [
          "Job 0"
         ]
        },
        {
         "base": 29,
         "marker": {
          "color": "turquoise"
         },
         "name": "4",
         "orientation": "h",
         "showlegend": false,
         "type": "bar",
         "x": [
          8
         ],
         "y": [
          "Job 3"
         ]
        },
        {
         "base": 31,
         "marker": {
          "color": "gold"
         },
         "name": "5",
         "orientation": "h",
         "showlegend": false,
         "type": "bar",
         "x": [
          10
         ],
         "y": [
          "Job 1"
         ]
        },
        {
         "base": 31,
         "marker": {
          "color": "sienna"
         },
         "name": "0",
         "orientation": "h",
         "showlegend": false,
         "type": "bar",
         "x": [
          9
         ],
         "y": [
          "Job 2"
         ]
        },
        {
         "base": 34,
         "marker": {
          "color": "orchid"
         },
         "name": "3",
         "orientation": "h",
         "showlegend": false,
         "type": "bar",
         "x": [
          7
         ],
         "y": [
          "Job 0"
         ]
        },
        {
         "base": 40,
         "marker": {
          "color": "seagreen"
         },
         "name": "1",
         "orientation": "h",
         "showlegend": false,
         "type": "bar",
         "x": [
          1
         ],
         "y": [
          "Job 2"
         ]
        },
        {
         "base": 41,
         "marker": {
          "color": "sienna"
         },
         "name": "0",
         "orientation": "h",
         "showlegend": false,
         "type": "bar",
         "x": [
          10
         ],
         "y": [
          "Job 1"
         ]
        },
        {
         "base": 41,
         "marker": {
          "color": "gold"
         },
         "name": "5",
         "orientation": "h",
         "showlegend": false,
         "type": "bar",
         "x": [
          9
         ],
         "y": [
          "Job 3"
         ]
        },
        {
         "base": 41,
         "marker": {
          "color": "turquoise"
         },
         "name": "4",
         "orientation": "h",
         "showlegend": false,
         "type": "bar",
         "x": [
          7
         ],
         "y": [
          "Job 2"
         ]
        },
        {
         "base": 50,
         "marker": {
          "color": "gold"
         },
         "name": "5",
         "orientation": "h",
         "showlegend": false,
         "type": "bar",
         "x": [
          9
         ],
         "y": [
          "Job 5"
         ]
        },
        {
         "base": 51,
         "marker": {
          "color": "orchid"
         },
         "name": "3",
         "orientation": "h",
         "showlegend": false,
         "type": "bar",
         "x": [
          4
         ],
         "y": [
          "Job 1"
         ]
        },
        {
         "base": 59,
         "marker": {
          "color": "sienna"
         },
         "name": "0",
         "orientation": "h",
         "showlegend": false,
         "type": "bar",
         "x": [
          10
         ],
         "y": [
          "Job 5"
         ]
        },
        {
         "base": 59,
         "marker": {
          "color": "gold"
         },
         "name": "5",
         "orientation": "h",
         "showlegend": false,
         "type": "bar",
         "x": [
          4
         ],
         "y": [
          "Job 4"
         ]
        },
        {
         "base": 63,
         "marker": {
          "color": "gold"
         },
         "name": "5",
         "orientation": "h",
         "showlegend": false,
         "type": "bar",
         "x": [
          3
         ],
         "y": [
          "Job 0"
         ]
        },
        {
         "base": 66,
         "marker": {
          "color": "turquoise"
         },
         "name": "4",
         "orientation": "h",
         "showlegend": false,
         "type": "bar",
         "x": [
          6
         ],
         "y": [
          "Job 0"
         ]
        },
        {
         "base": 69,
         "marker": {
          "color": "sienna"
         },
         "name": "0",
         "orientation": "h",
         "showlegend": false,
         "type": "bar",
         "x": [
          3
         ],
         "y": [
          "Job 4"
         ]
        },
        {
         "base": 72,
         "marker": {
          "color": "turquoise"
         },
         "name": "4",
         "orientation": "h",
         "showlegend": false,
         "type": "bar",
         "x": [
          4
         ],
         "y": [
          "Job 5"
         ]
        },
        {
         "base": 72,
         "marker": {
          "color": "orchid"
         },
         "name": "3",
         "orientation": "h",
         "showlegend": false,
         "type": "bar",
         "x": [
          1
         ],
         "y": [
          "Job 4"
         ]
        },
        {
         "base": 76,
         "marker": {
          "color": "dodgerblue"
         },
         "name": "2",
         "orientation": "h",
         "showlegend": false,
         "type": "bar",
         "x": [
          1
         ],
         "y": [
          "Job 5"
         ]
        }
       ],
       "layout": {
        "barmode": "stack",
        "template": {
         "data": {
          "bar": [
           {
            "error_x": {
             "color": "#2a3f5f"
            },
            "error_y": {
             "color": "#2a3f5f"
            },
            "marker": {
             "line": {
              "color": "#E5ECF6",
              "width": 0.5
             }
            },
            "type": "bar"
           }
          ],
          "barpolar": [
           {
            "marker": {
             "line": {
              "color": "#E5ECF6",
              "width": 0.5
             }
            },
            "type": "barpolar"
           }
          ],
          "carpet": [
           {
            "aaxis": {
             "endlinecolor": "#2a3f5f",
             "gridcolor": "white",
             "linecolor": "white",
             "minorgridcolor": "white",
             "startlinecolor": "#2a3f5f"
            },
            "baxis": {
             "endlinecolor": "#2a3f5f",
             "gridcolor": "white",
             "linecolor": "white",
             "minorgridcolor": "white",
             "startlinecolor": "#2a3f5f"
            },
            "type": "carpet"
           }
          ],
          "choropleth": [
           {
            "colorbar": {
             "outlinewidth": 0,
             "ticks": ""
            },
            "type": "choropleth"
           }
          ],
          "contour": [
           {
            "colorbar": {
             "outlinewidth": 0,
             "ticks": ""
            },
            "colorscale": [
             [
              0,
              "#0d0887"
             ],
             [
              0.1111111111111111,
              "#46039f"
             ],
             [
              0.2222222222222222,
              "#7201a8"
             ],
             [
              0.3333333333333333,
              "#9c179e"
             ],
             [
              0.4444444444444444,
              "#bd3786"
             ],
             [
              0.5555555555555556,
              "#d8576b"
             ],
             [
              0.6666666666666666,
              "#ed7953"
             ],
             [
              0.7777777777777778,
              "#fb9f3a"
             ],
             [
              0.8888888888888888,
              "#fdca26"
             ],
             [
              1,
              "#f0f921"
             ]
            ],
            "type": "contour"
           }
          ],
          "contourcarpet": [
           {
            "colorbar": {
             "outlinewidth": 0,
             "ticks": ""
            },
            "type": "contourcarpet"
           }
          ],
          "heatmap": [
           {
            "colorbar": {
             "outlinewidth": 0,
             "ticks": ""
            },
            "colorscale": [
             [
              0,
              "#0d0887"
             ],
             [
              0.1111111111111111,
              "#46039f"
             ],
             [
              0.2222222222222222,
              "#7201a8"
             ],
             [
              0.3333333333333333,
              "#9c179e"
             ],
             [
              0.4444444444444444,
              "#bd3786"
             ],
             [
              0.5555555555555556,
              "#d8576b"
             ],
             [
              0.6666666666666666,
              "#ed7953"
             ],
             [
              0.7777777777777778,
              "#fb9f3a"
             ],
             [
              0.8888888888888888,
              "#fdca26"
             ],
             [
              1,
              "#f0f921"
             ]
            ],
            "type": "heatmap"
           }
          ],
          "heatmapgl": [
           {
            "colorbar": {
             "outlinewidth": 0,
             "ticks": ""
            },
            "colorscale": [
             [
              0,
              "#0d0887"
             ],
             [
              0.1111111111111111,
              "#46039f"
             ],
             [
              0.2222222222222222,
              "#7201a8"
             ],
             [
              0.3333333333333333,
              "#9c179e"
             ],
             [
              0.4444444444444444,
              "#bd3786"
             ],
             [
              0.5555555555555556,
              "#d8576b"
             ],
             [
              0.6666666666666666,
              "#ed7953"
             ],
             [
              0.7777777777777778,
              "#fb9f3a"
             ],
             [
              0.8888888888888888,
              "#fdca26"
             ],
             [
              1,
              "#f0f921"
             ]
            ],
            "type": "heatmapgl"
           }
          ],
          "histogram": [
           {
            "marker": {
             "colorbar": {
              "outlinewidth": 0,
              "ticks": ""
             }
            },
            "type": "histogram"
           }
          ],
          "histogram2d": [
           {
            "colorbar": {
             "outlinewidth": 0,
             "ticks": ""
            },
            "colorscale": [
             [
              0,
              "#0d0887"
             ],
             [
              0.1111111111111111,
              "#46039f"
             ],
             [
              0.2222222222222222,
              "#7201a8"
             ],
             [
              0.3333333333333333,
              "#9c179e"
             ],
             [
              0.4444444444444444,
              "#bd3786"
             ],
             [
              0.5555555555555556,
              "#d8576b"
             ],
             [
              0.6666666666666666,
              "#ed7953"
             ],
             [
              0.7777777777777778,
              "#fb9f3a"
             ],
             [
              0.8888888888888888,
              "#fdca26"
             ],
             [
              1,
              "#f0f921"
             ]
            ],
            "type": "histogram2d"
           }
          ],
          "histogram2dcontour": [
           {
            "colorbar": {
             "outlinewidth": 0,
             "ticks": ""
            },
            "colorscale": [
             [
              0,
              "#0d0887"
             ],
             [
              0.1111111111111111,
              "#46039f"
             ],
             [
              0.2222222222222222,
              "#7201a8"
             ],
             [
              0.3333333333333333,
              "#9c179e"
             ],
             [
              0.4444444444444444,
              "#bd3786"
             ],
             [
              0.5555555555555556,
              "#d8576b"
             ],
             [
              0.6666666666666666,
              "#ed7953"
             ],
             [
              0.7777777777777778,
              "#fb9f3a"
             ],
             [
              0.8888888888888888,
              "#fdca26"
             ],
             [
              1,
              "#f0f921"
             ]
            ],
            "type": "histogram2dcontour"
           }
          ],
          "mesh3d": [
           {
            "colorbar": {
             "outlinewidth": 0,
             "ticks": ""
            },
            "type": "mesh3d"
           }
          ],
          "parcoords": [
           {
            "line": {
             "colorbar": {
              "outlinewidth": 0,
              "ticks": ""
             }
            },
            "type": "parcoords"
           }
          ],
          "pie": [
           {
            "automargin": true,
            "type": "pie"
           }
          ],
          "scatter": [
           {
            "marker": {
             "colorbar": {
              "outlinewidth": 0,
              "ticks": ""
             }
            },
            "type": "scatter"
           }
          ],
          "scatter3d": [
           {
            "line": {
             "colorbar": {
              "outlinewidth": 0,
              "ticks": ""
             }
            },
            "marker": {
             "colorbar": {
              "outlinewidth": 0,
              "ticks": ""
             }
            },
            "type": "scatter3d"
           }
          ],
          "scattercarpet": [
           {
            "marker": {
             "colorbar": {
              "outlinewidth": 0,
              "ticks": ""
             }
            },
            "type": "scattercarpet"
           }
          ],
          "scattergeo": [
           {
            "marker": {
             "colorbar": {
              "outlinewidth": 0,
              "ticks": ""
             }
            },
            "type": "scattergeo"
           }
          ],
          "scattergl": [
           {
            "marker": {
             "colorbar": {
              "outlinewidth": 0,
              "ticks": ""
             }
            },
            "type": "scattergl"
           }
          ],
          "scattermapbox": [
           {
            "marker": {
             "colorbar": {
              "outlinewidth": 0,
              "ticks": ""
             }
            },
            "type": "scattermapbox"
           }
          ],
          "scatterpolar": [
           {
            "marker": {
             "colorbar": {
              "outlinewidth": 0,
              "ticks": ""
             }
            },
            "type": "scatterpolar"
           }
          ],
          "scatterpolargl": [
           {
            "marker": {
             "colorbar": {
              "outlinewidth": 0,
              "ticks": ""
             }
            },
            "type": "scatterpolargl"
           }
          ],
          "scatterternary": [
           {
            "marker": {
             "colorbar": {
              "outlinewidth": 0,
              "ticks": ""
             }
            },
            "type": "scatterternary"
           }
          ],
          "surface": [
           {
            "colorbar": {
             "outlinewidth": 0,
             "ticks": ""
            },
            "colorscale": [
             [
              0,
              "#0d0887"
             ],
             [
              0.1111111111111111,
              "#46039f"
             ],
             [
              0.2222222222222222,
              "#7201a8"
             ],
             [
              0.3333333333333333,
              "#9c179e"
             ],
             [
              0.4444444444444444,
              "#bd3786"
             ],
             [
              0.5555555555555556,
              "#d8576b"
             ],
             [
              0.6666666666666666,
              "#ed7953"
             ],
             [
              0.7777777777777778,
              "#fb9f3a"
             ],
             [
              0.8888888888888888,
              "#fdca26"
             ],
             [
              1,
              "#f0f921"
             ]
            ],
            "type": "surface"
           }
          ],
          "table": [
           {
            "cells": {
             "fill": {
              "color": "#EBF0F8"
             },
             "line": {
              "color": "white"
             }
            },
            "header": {
             "fill": {
              "color": "#C8D4E3"
             },
             "line": {
              "color": "white"
             }
            },
            "type": "table"
           }
          ]
         },
         "layout": {
          "annotationdefaults": {
           "arrowcolor": "#2a3f5f",
           "arrowhead": 0,
           "arrowwidth": 1
          },
          "coloraxis": {
           "colorbar": {
            "outlinewidth": 0,
            "ticks": ""
           }
          },
          "colorscale": {
           "diverging": [
            [
             0,
             "#8e0152"
            ],
            [
             0.1,
             "#c51b7d"
            ],
            [
             0.2,
             "#de77ae"
            ],
            [
             0.3,
             "#f1b6da"
            ],
            [
             0.4,
             "#fde0ef"
            ],
            [
             0.5,
             "#f7f7f7"
            ],
            [
             0.6,
             "#e6f5d0"
            ],
            [
             0.7,
             "#b8e186"
            ],
            [
             0.8,
             "#7fbc41"
            ],
            [
             0.9,
             "#4d9221"
            ],
            [
             1,
             "#276419"
            ]
           ],
           "sequential": [
            [
             0,
             "#0d0887"
            ],
            [
             0.1111111111111111,
             "#46039f"
            ],
            [
             0.2222222222222222,
             "#7201a8"
            ],
            [
             0.3333333333333333,
             "#9c179e"
            ],
            [
             0.4444444444444444,
             "#bd3786"
            ],
            [
             0.5555555555555556,
             "#d8576b"
            ],
            [
             0.6666666666666666,
             "#ed7953"
            ],
            [
             0.7777777777777778,
             "#fb9f3a"
            ],
            [
             0.8888888888888888,
             "#fdca26"
            ],
            [
             1,
             "#f0f921"
            ]
           ],
           "sequentialminus": [
            [
             0,
             "#0d0887"
            ],
            [
             0.1111111111111111,
             "#46039f"
            ],
            [
             0.2222222222222222,
             "#7201a8"
            ],
            [
             0.3333333333333333,
             "#9c179e"
            ],
            [
             0.4444444444444444,
             "#bd3786"
            ],
            [
             0.5555555555555556,
             "#d8576b"
            ],
            [
             0.6666666666666666,
             "#ed7953"
            ],
            [
             0.7777777777777778,
             "#fb9f3a"
            ],
            [
             0.8888888888888888,
             "#fdca26"
            ],
            [
             1,
             "#f0f921"
            ]
           ]
          },
          "colorway": [
           "#636efa",
           "#EF553B",
           "#00cc96",
           "#ab63fa",
           "#FFA15A",
           "#19d3f3",
           "#FF6692",
           "#B6E880",
           "#FF97FF",
           "#FECB52"
          ],
          "font": {
           "color": "#2a3f5f"
          },
          "geo": {
           "bgcolor": "white",
           "lakecolor": "white",
           "landcolor": "#E5ECF6",
           "showlakes": true,
           "showland": true,
           "subunitcolor": "white"
          },
          "hoverlabel": {
           "align": "left"
          },
          "hovermode": "closest",
          "mapbox": {
           "style": "light"
          },
          "paper_bgcolor": "white",
          "plot_bgcolor": "#E5ECF6",
          "polar": {
           "angularaxis": {
            "gridcolor": "white",
            "linecolor": "white",
            "ticks": ""
           },
           "bgcolor": "#E5ECF6",
           "radialaxis": {
            "gridcolor": "white",
            "linecolor": "white",
            "ticks": ""
           }
          },
          "scene": {
           "xaxis": {
            "backgroundcolor": "#E5ECF6",
            "gridcolor": "white",
            "gridwidth": 2,
            "linecolor": "white",
            "showbackground": true,
            "ticks": "",
            "zerolinecolor": "white"
           },
           "yaxis": {
            "backgroundcolor": "#E5ECF6",
            "gridcolor": "white",
            "gridwidth": 2,
            "linecolor": "white",
            "showbackground": true,
            "ticks": "",
            "zerolinecolor": "white"
           },
           "zaxis": {
            "backgroundcolor": "#E5ECF6",
            "gridcolor": "white",
            "gridwidth": 2,
            "linecolor": "white",
            "showbackground": true,
            "ticks": "",
            "zerolinecolor": "white"
           }
          },
          "shapedefaults": {
           "line": {
            "color": "#2a3f5f"
           }
          },
          "ternary": {
           "aaxis": {
            "gridcolor": "white",
            "linecolor": "white",
            "ticks": ""
           },
           "baxis": {
            "gridcolor": "white",
            "linecolor": "white",
            "ticks": ""
           },
           "bgcolor": "#E5ECF6",
           "caxis": {
            "gridcolor": "white",
            "linecolor": "white",
            "ticks": ""
           }
          },
          "title": {
           "x": 0.05
          },
          "xaxis": {
           "automargin": true,
           "gridcolor": "white",
           "linecolor": "white",
           "ticks": "",
           "title": {
            "standoff": 15
           },
           "zerolinecolor": "white",
           "zerolinewidth": 2
          },
          "yaxis": {
           "automargin": true,
           "gridcolor": "white",
           "linecolor": "white",
           "ticks": "",
           "title": {
            "standoff": 15
           },
           "zerolinecolor": "white",
           "zerolinewidth": 2
          }
         }
        },
        "xaxis": {
         "automargin": true
        },
        "yaxis": {
         "automargin": true
        }
       }
      },
      "text/html": [
       "<div>\n",
       "        \n",
       "        \n",
       "            <div id=\"4fafa378-2cac-448b-9080-5c8be0a6821c\" class=\"plotly-graph-div\" style=\"height:525px; width:100%;\"></div>\n",
       "            <script type=\"text/javascript\">\n",
       "                require([\"plotly\"], function(Plotly) {\n",
       "                    window.PLOTLYENV=window.PLOTLYENV || {};\n",
       "                    \n",
       "                if (document.getElementById(\"4fafa378-2cac-448b-9080-5c8be0a6821c\")) {\n",
       "                    Plotly.newPlot(\n",
       "                        '4fafa378-2cac-448b-9080-5c8be0a6821c',\n",
       "                        [{\"base\": 0, \"marker\": {\"color\": \"dodgerblue\"}, \"name\": \"2\", \"orientation\": \"h\", \"showlegend\": true, \"type\": \"bar\", \"x\": [9], \"y\": [\"Job 4\"]}, {\"base\": 0, \"marker\": {\"color\": \"seagreen\"}, \"name\": \"1\", \"orientation\": \"h\", \"showlegend\": true, \"type\": \"bar\", \"x\": [8], \"y\": [\"Job 1\"]}, {\"base\": 8, \"marker\": {\"color\": \"seagreen\"}, \"name\": \"1\", \"orientation\": \"h\", \"showlegend\": false, \"type\": \"bar\", \"x\": [5], \"y\": [\"Job 3\"]}, {\"base\": 9, \"marker\": {\"color\": \"dodgerblue\"}, \"name\": \"2\", \"orientation\": \"h\", \"showlegend\": false, \"type\": \"bar\", \"x\": [5], \"y\": [\"Job 1\"]}, {\"base\": 13, \"marker\": {\"color\": \"sienna\"}, \"name\": \"0\", \"orientation\": \"h\", \"showlegend\": true, \"type\": \"bar\", \"x\": [5], \"y\": [\"Job 3\"]}, {\"base\": 13, \"marker\": {\"color\": \"seagreen\"}, \"name\": \"1\", \"orientation\": \"h\", \"showlegend\": false, \"type\": \"bar\", \"x\": [3], \"y\": [\"Job 4\"]}, {\"base\": 14, \"marker\": {\"color\": \"turquoise\"}, \"name\": \"4\", \"orientation\": \"h\", \"showlegend\": true, \"type\": \"bar\", \"x\": [10], \"y\": [\"Job 1\"]}, {\"base\": 14, \"marker\": {\"color\": \"dodgerblue\"}, \"name\": \"2\", \"orientation\": \"h\", \"showlegend\": false, \"type\": \"bar\", \"x\": [5], \"y\": [\"Job 2\"]}, {\"base\": 16, \"marker\": {\"color\": \"seagreen\"}, \"name\": \"1\", \"orientation\": \"h\", \"showlegend\": false, \"type\": \"bar\", \"x\": [3], \"y\": [\"Job 5\"]}, {\"base\": 19, \"marker\": {\"color\": \"dodgerblue\"}, \"name\": \"2\", \"orientation\": \"h\", \"showlegend\": false, \"type\": \"bar\", \"x\": [5], \"y\": [\"Job 3\"]}, {\"base\": 19, \"marker\": {\"color\": \"orchid\"}, \"name\": \"3\", \"orientation\": \"h\", \"showlegend\": true, \"type\": \"bar\", \"x\": [4], \"y\": [\"Job 2\"]}, {\"base\": 23, \"marker\": {\"color\": \"gold\"}, \"name\": \"5\", \"orientation\": \"h\", \"showlegend\": true, \"type\": \"bar\", \"x\": [8], \"y\": [\"Job 2\"]}, {\"base\": 23, \"marker\": {\"color\": \"orchid\"}, \"name\": \"3\", \"orientation\": \"h\", \"showlegend\": false, \"type\": \"bar\", \"x\": [3], \"y\": [\"Job 5\"]}, {\"base\": 24, \"marker\": {\"color\": \"turquoise\"}, \"name\": \"4\", \"orientation\": \"h\", \"showlegend\": false, \"type\": \"bar\", \"x\": [5], \"y\": [\"Job 4\"]}, {\"base\": 24, \"marker\": {\"color\": \"dodgerblue\"}, \"name\": \"2\", \"orientation\": \"h\", \"showlegend\": false, \"type\": \"bar\", \"x\": [1], \"y\": [\"Job 0\"]}, {\"base\": 25, \"marker\": {\"color\": \"sienna\"}, \"name\": \"0\", \"orientation\": \"h\", \"showlegend\": false, \"type\": \"bar\", \"x\": [3], \"y\": [\"Job 0\"]}, {\"base\": 26, \"marker\": {\"color\": \"orchid\"}, \"name\": \"3\", \"orientation\": \"h\", \"showlegend\": false, \"type\": \"bar\", \"x\": [3], \"y\": [\"Job 3\"]}, {\"base\": 28, \"marker\": {\"color\": \"seagreen\"}, \"name\": \"1\", \"orientation\": \"h\", \"showlegend\": false, \"type\": \"bar\", \"x\": [6], \"y\": [\"Job 0\"]}, {\"base\": 29, \"marker\": {\"color\": \"turquoise\"}, \"name\": \"4\", \"orientation\": \"h\", \"showlegend\": false, \"type\": \"bar\", \"x\": [8], \"y\": [\"Job 3\"]}, {\"base\": 31, \"marker\": {\"color\": \"gold\"}, \"name\": \"5\", \"orientation\": \"h\", \"showlegend\": false, \"type\": \"bar\", \"x\": [10], \"y\": [\"Job 1\"]}, {\"base\": 31, \"marker\": {\"color\": \"sienna\"}, \"name\": \"0\", \"orientation\": \"h\", \"showlegend\": false, \"type\": \"bar\", \"x\": [9], \"y\": [\"Job 2\"]}, {\"base\": 34, \"marker\": {\"color\": \"orchid\"}, \"name\": \"3\", \"orientation\": \"h\", \"showlegend\": false, \"type\": \"bar\", \"x\": [7], \"y\": [\"Job 0\"]}, {\"base\": 40, \"marker\": {\"color\": \"seagreen\"}, \"name\": \"1\", \"orientation\": \"h\", \"showlegend\": false, \"type\": \"bar\", \"x\": [1], \"y\": [\"Job 2\"]}, {\"base\": 41, \"marker\": {\"color\": \"sienna\"}, \"name\": \"0\", \"orientation\": \"h\", \"showlegend\": false, \"type\": \"bar\", \"x\": [10], \"y\": [\"Job 1\"]}, {\"base\": 41, \"marker\": {\"color\": \"gold\"}, \"name\": \"5\", \"orientation\": \"h\", \"showlegend\": false, \"type\": \"bar\", \"x\": [9], \"y\": [\"Job 3\"]}, {\"base\": 41, \"marker\": {\"color\": \"turquoise\"}, \"name\": \"4\", \"orientation\": \"h\", \"showlegend\": false, \"type\": \"bar\", \"x\": [7], \"y\": [\"Job 2\"]}, {\"base\": 50, \"marker\": {\"color\": \"gold\"}, \"name\": \"5\", \"orientation\": \"h\", \"showlegend\": false, \"type\": \"bar\", \"x\": [9], \"y\": [\"Job 5\"]}, {\"base\": 51, \"marker\": {\"color\": \"orchid\"}, \"name\": \"3\", \"orientation\": \"h\", \"showlegend\": false, \"type\": \"bar\", \"x\": [4], \"y\": [\"Job 1\"]}, {\"base\": 59, \"marker\": {\"color\": \"sienna\"}, \"name\": \"0\", \"orientation\": \"h\", \"showlegend\": false, \"type\": \"bar\", \"x\": [10], \"y\": [\"Job 5\"]}, {\"base\": 59, \"marker\": {\"color\": \"gold\"}, \"name\": \"5\", \"orientation\": \"h\", \"showlegend\": false, \"type\": \"bar\", \"x\": [4], \"y\": [\"Job 4\"]}, {\"base\": 63, \"marker\": {\"color\": \"gold\"}, \"name\": \"5\", \"orientation\": \"h\", \"showlegend\": false, \"type\": \"bar\", \"x\": [3], \"y\": [\"Job 0\"]}, {\"base\": 66, \"marker\": {\"color\": \"turquoise\"}, \"name\": \"4\", \"orientation\": \"h\", \"showlegend\": false, \"type\": \"bar\", \"x\": [6], \"y\": [\"Job 0\"]}, {\"base\": 69, \"marker\": {\"color\": \"sienna\"}, \"name\": \"0\", \"orientation\": \"h\", \"showlegend\": false, \"type\": \"bar\", \"x\": [3], \"y\": [\"Job 4\"]}, {\"base\": 72, \"marker\": {\"color\": \"turquoise\"}, \"name\": \"4\", \"orientation\": \"h\", \"showlegend\": false, \"type\": \"bar\", \"x\": [4], \"y\": [\"Job 5\"]}, {\"base\": 72, \"marker\": {\"color\": \"orchid\"}, \"name\": \"3\", \"orientation\": \"h\", \"showlegend\": false, \"type\": \"bar\", \"x\": [1], \"y\": [\"Job 4\"]}, {\"base\": 76, \"marker\": {\"color\": \"dodgerblue\"}, \"name\": \"2\", \"orientation\": \"h\", \"showlegend\": false, \"type\": \"bar\", \"x\": [1], \"y\": [\"Job 5\"]}],\n",
       "                        {\"barmode\": \"stack\", \"template\": {\"data\": {\"bar\": [{\"error_x\": {\"color\": \"#2a3f5f\"}, \"error_y\": {\"color\": \"#2a3f5f\"}, \"marker\": {\"line\": {\"color\": \"#E5ECF6\", \"width\": 0.5}}, \"type\": \"bar\"}], \"barpolar\": [{\"marker\": {\"line\": {\"color\": \"#E5ECF6\", \"width\": 0.5}}, \"type\": \"barpolar\"}], \"carpet\": [{\"aaxis\": {\"endlinecolor\": \"#2a3f5f\", \"gridcolor\": \"white\", \"linecolor\": \"white\", \"minorgridcolor\": \"white\", \"startlinecolor\": \"#2a3f5f\"}, \"baxis\": {\"endlinecolor\": \"#2a3f5f\", \"gridcolor\": \"white\", \"linecolor\": \"white\", \"minorgridcolor\": \"white\", \"startlinecolor\": \"#2a3f5f\"}, \"type\": \"carpet\"}], \"choropleth\": [{\"colorbar\": {\"outlinewidth\": 0, \"ticks\": \"\"}, \"type\": \"choropleth\"}], \"contour\": [{\"colorbar\": {\"outlinewidth\": 0, \"ticks\": \"\"}, \"colorscale\": [[0.0, \"#0d0887\"], [0.1111111111111111, \"#46039f\"], [0.2222222222222222, \"#7201a8\"], [0.3333333333333333, \"#9c179e\"], [0.4444444444444444, \"#bd3786\"], [0.5555555555555556, \"#d8576b\"], [0.6666666666666666, \"#ed7953\"], [0.7777777777777778, \"#fb9f3a\"], [0.8888888888888888, \"#fdca26\"], [1.0, \"#f0f921\"]], \"type\": \"contour\"}], \"contourcarpet\": [{\"colorbar\": {\"outlinewidth\": 0, \"ticks\": \"\"}, \"type\": \"contourcarpet\"}], \"heatmap\": [{\"colorbar\": {\"outlinewidth\": 0, \"ticks\": \"\"}, \"colorscale\": [[0.0, \"#0d0887\"], [0.1111111111111111, \"#46039f\"], [0.2222222222222222, \"#7201a8\"], [0.3333333333333333, \"#9c179e\"], [0.4444444444444444, \"#bd3786\"], [0.5555555555555556, \"#d8576b\"], [0.6666666666666666, \"#ed7953\"], [0.7777777777777778, \"#fb9f3a\"], [0.8888888888888888, \"#fdca26\"], [1.0, \"#f0f921\"]], \"type\": \"heatmap\"}], \"heatmapgl\": [{\"colorbar\": {\"outlinewidth\": 0, \"ticks\": \"\"}, \"colorscale\": [[0.0, \"#0d0887\"], [0.1111111111111111, \"#46039f\"], [0.2222222222222222, \"#7201a8\"], [0.3333333333333333, \"#9c179e\"], [0.4444444444444444, \"#bd3786\"], [0.5555555555555556, \"#d8576b\"], [0.6666666666666666, \"#ed7953\"], [0.7777777777777778, \"#fb9f3a\"], [0.8888888888888888, \"#fdca26\"], [1.0, \"#f0f921\"]], \"type\": \"heatmapgl\"}], \"histogram\": [{\"marker\": {\"colorbar\": {\"outlinewidth\": 0, \"ticks\": \"\"}}, \"type\": \"histogram\"}], \"histogram2d\": [{\"colorbar\": {\"outlinewidth\": 0, \"ticks\": \"\"}, \"colorscale\": [[0.0, \"#0d0887\"], [0.1111111111111111, \"#46039f\"], [0.2222222222222222, \"#7201a8\"], [0.3333333333333333, \"#9c179e\"], [0.4444444444444444, \"#bd3786\"], [0.5555555555555556, \"#d8576b\"], [0.6666666666666666, \"#ed7953\"], [0.7777777777777778, \"#fb9f3a\"], [0.8888888888888888, \"#fdca26\"], [1.0, \"#f0f921\"]], \"type\": \"histogram2d\"}], \"histogram2dcontour\": [{\"colorbar\": {\"outlinewidth\": 0, \"ticks\": \"\"}, \"colorscale\": [[0.0, \"#0d0887\"], [0.1111111111111111, \"#46039f\"], [0.2222222222222222, \"#7201a8\"], [0.3333333333333333, \"#9c179e\"], [0.4444444444444444, \"#bd3786\"], [0.5555555555555556, \"#d8576b\"], [0.6666666666666666, \"#ed7953\"], [0.7777777777777778, \"#fb9f3a\"], [0.8888888888888888, \"#fdca26\"], [1.0, \"#f0f921\"]], \"type\": \"histogram2dcontour\"}], \"mesh3d\": [{\"colorbar\": {\"outlinewidth\": 0, \"ticks\": \"\"}, \"type\": \"mesh3d\"}], \"parcoords\": [{\"line\": {\"colorbar\": {\"outlinewidth\": 0, \"ticks\": \"\"}}, \"type\": \"parcoords\"}], \"pie\": [{\"automargin\": true, \"type\": \"pie\"}], \"scatter\": [{\"marker\": {\"colorbar\": {\"outlinewidth\": 0, \"ticks\": \"\"}}, \"type\": \"scatter\"}], \"scatter3d\": [{\"line\": {\"colorbar\": {\"outlinewidth\": 0, \"ticks\": \"\"}}, \"marker\": {\"colorbar\": {\"outlinewidth\": 0, \"ticks\": \"\"}}, \"type\": \"scatter3d\"}], \"scattercarpet\": [{\"marker\": {\"colorbar\": {\"outlinewidth\": 0, \"ticks\": \"\"}}, \"type\": \"scattercarpet\"}], \"scattergeo\": [{\"marker\": {\"colorbar\": {\"outlinewidth\": 0, \"ticks\": \"\"}}, \"type\": \"scattergeo\"}], \"scattergl\": [{\"marker\": {\"colorbar\": {\"outlinewidth\": 0, \"ticks\": \"\"}}, \"type\": \"scattergl\"}], \"scattermapbox\": [{\"marker\": {\"colorbar\": {\"outlinewidth\": 0, \"ticks\": \"\"}}, \"type\": \"scattermapbox\"}], \"scatterpolar\": [{\"marker\": {\"colorbar\": {\"outlinewidth\": 0, \"ticks\": \"\"}}, \"type\": \"scatterpolar\"}], \"scatterpolargl\": [{\"marker\": {\"colorbar\": {\"outlinewidth\": 0, \"ticks\": \"\"}}, \"type\": \"scatterpolargl\"}], \"scatterternary\": [{\"marker\": {\"colorbar\": {\"outlinewidth\": 0, \"ticks\": \"\"}}, \"type\": \"scatterternary\"}], \"surface\": [{\"colorbar\": {\"outlinewidth\": 0, \"ticks\": \"\"}, \"colorscale\": [[0.0, \"#0d0887\"], [0.1111111111111111, \"#46039f\"], [0.2222222222222222, \"#7201a8\"], [0.3333333333333333, \"#9c179e\"], [0.4444444444444444, \"#bd3786\"], [0.5555555555555556, \"#d8576b\"], [0.6666666666666666, \"#ed7953\"], [0.7777777777777778, \"#fb9f3a\"], [0.8888888888888888, \"#fdca26\"], [1.0, \"#f0f921\"]], \"type\": \"surface\"}], \"table\": [{\"cells\": {\"fill\": {\"color\": \"#EBF0F8\"}, \"line\": {\"color\": \"white\"}}, \"header\": {\"fill\": {\"color\": \"#C8D4E3\"}, \"line\": {\"color\": \"white\"}}, \"type\": \"table\"}]}, \"layout\": {\"annotationdefaults\": {\"arrowcolor\": \"#2a3f5f\", \"arrowhead\": 0, \"arrowwidth\": 1}, \"coloraxis\": {\"colorbar\": {\"outlinewidth\": 0, \"ticks\": \"\"}}, \"colorscale\": {\"diverging\": [[0, \"#8e0152\"], [0.1, \"#c51b7d\"], [0.2, \"#de77ae\"], [0.3, \"#f1b6da\"], [0.4, \"#fde0ef\"], [0.5, \"#f7f7f7\"], [0.6, \"#e6f5d0\"], [0.7, \"#b8e186\"], [0.8, \"#7fbc41\"], [0.9, \"#4d9221\"], [1, \"#276419\"]], \"sequential\": [[0.0, \"#0d0887\"], [0.1111111111111111, \"#46039f\"], [0.2222222222222222, \"#7201a8\"], [0.3333333333333333, \"#9c179e\"], [0.4444444444444444, \"#bd3786\"], [0.5555555555555556, \"#d8576b\"], [0.6666666666666666, \"#ed7953\"], [0.7777777777777778, \"#fb9f3a\"], [0.8888888888888888, \"#fdca26\"], [1.0, \"#f0f921\"]], \"sequentialminus\": [[0.0, \"#0d0887\"], [0.1111111111111111, \"#46039f\"], [0.2222222222222222, \"#7201a8\"], [0.3333333333333333, \"#9c179e\"], [0.4444444444444444, \"#bd3786\"], [0.5555555555555556, \"#d8576b\"], [0.6666666666666666, \"#ed7953\"], [0.7777777777777778, \"#fb9f3a\"], [0.8888888888888888, \"#fdca26\"], [1.0, \"#f0f921\"]]}, \"colorway\": [\"#636efa\", \"#EF553B\", \"#00cc96\", \"#ab63fa\", \"#FFA15A\", \"#19d3f3\", \"#FF6692\", \"#B6E880\", \"#FF97FF\", \"#FECB52\"], \"font\": {\"color\": \"#2a3f5f\"}, \"geo\": {\"bgcolor\": \"white\", \"lakecolor\": \"white\", \"landcolor\": \"#E5ECF6\", \"showlakes\": true, \"showland\": true, \"subunitcolor\": \"white\"}, \"hoverlabel\": {\"align\": \"left\"}, \"hovermode\": \"closest\", \"mapbox\": {\"style\": \"light\"}, \"paper_bgcolor\": \"white\", \"plot_bgcolor\": \"#E5ECF6\", \"polar\": {\"angularaxis\": {\"gridcolor\": \"white\", \"linecolor\": \"white\", \"ticks\": \"\"}, \"bgcolor\": \"#E5ECF6\", \"radialaxis\": {\"gridcolor\": \"white\", \"linecolor\": \"white\", \"ticks\": \"\"}}, \"scene\": {\"xaxis\": {\"backgroundcolor\": \"#E5ECF6\", \"gridcolor\": \"white\", \"gridwidth\": 2, \"linecolor\": \"white\", \"showbackground\": true, \"ticks\": \"\", \"zerolinecolor\": \"white\"}, \"yaxis\": {\"backgroundcolor\": \"#E5ECF6\", \"gridcolor\": \"white\", \"gridwidth\": 2, \"linecolor\": \"white\", \"showbackground\": true, \"ticks\": \"\", \"zerolinecolor\": \"white\"}, \"zaxis\": {\"backgroundcolor\": \"#E5ECF6\", \"gridcolor\": \"white\", \"gridwidth\": 2, \"linecolor\": \"white\", \"showbackground\": true, \"ticks\": \"\", \"zerolinecolor\": \"white\"}}, \"shapedefaults\": {\"line\": {\"color\": \"#2a3f5f\"}}, \"ternary\": {\"aaxis\": {\"gridcolor\": \"white\", \"linecolor\": \"white\", \"ticks\": \"\"}, \"baxis\": {\"gridcolor\": \"white\", \"linecolor\": \"white\", \"ticks\": \"\"}, \"bgcolor\": \"#E5ECF6\", \"caxis\": {\"gridcolor\": \"white\", \"linecolor\": \"white\", \"ticks\": \"\"}}, \"title\": {\"x\": 0.05}, \"xaxis\": {\"automargin\": true, \"gridcolor\": \"white\", \"linecolor\": \"white\", \"ticks\": \"\", \"title\": {\"standoff\": 15}, \"zerolinecolor\": \"white\", \"zerolinewidth\": 2}, \"yaxis\": {\"automargin\": true, \"gridcolor\": \"white\", \"linecolor\": \"white\", \"ticks\": \"\", \"title\": {\"standoff\": 15}, \"zerolinecolor\": \"white\", \"zerolinewidth\": 2}}}, \"xaxis\": {\"automargin\": true}, \"yaxis\": {\"automargin\": true}},\n",
       "                        {\"responsive\": true}\n",
       "                    ).then(function(){\n",
       "                            \n",
       "var gd = document.getElementById('4fafa378-2cac-448b-9080-5c8be0a6821c');\n",
       "var x = new MutationObserver(function (mutations, observer) {{\n",
       "        var display = window.getComputedStyle(gd).display;\n",
       "        if (!display || display === 'none') {{\n",
       "            console.log([gd, 'removed!']);\n",
       "            Plotly.purge(gd);\n",
       "            observer.disconnect();\n",
       "        }}\n",
       "}});\n",
       "\n",
       "// Listen for the removal of the full notebook cells\n",
       "var notebookContainer = gd.closest('#notebook-container');\n",
       "if (notebookContainer) {{\n",
       "    x.observe(notebookContainer, {childList: true});\n",
       "}}\n",
       "\n",
       "// Listen for the clearing of the current output cell\n",
       "var outputEl = gd.closest('.output');\n",
       "if (outputEl) {{\n",
       "    x.observe(outputEl, {childList: true});\n",
       "}}\n",
       "\n",
       "                        })\n",
       "                };\n",
       "                });\n",
       "            </script>\n",
       "        </div>"
      ]
     },
     "metadata": {},
     "output_type": "display_data"
    },
    {
     "name": "stdout",
     "output_type": "stream",
     "text": [
      "Time :  77\n",
      "[4, 3, 1, 1, 3, 4, 1, 2, 5, 3, 2, 2, 5, 4, 0, 0, 3, 0, 3, 1, 2, 0, 2, 1, 3, 2, 5, 1, 5, 4, 0, 0, 4, 5, 4, 5]\n"
     ]
    },
    {
     "data": {
      "application/vnd.plotly.v1+json": {
       "config": {
        "linkText": "Export to plot.ly",
        "plotlyServerURL": "https://plot.ly",
        "showLink": false
       },
       "data": [
        {
         "base": 0,
         "marker": {
          "color": "dodgerblue"
         },
         "name": "2",
         "orientation": "h",
         "showlegend": true,
         "type": "bar",
         "x": [
          9
         ],
         "y": [
          "Job 4"
         ]
        },
        {
         "base": 0,
         "marker": {
          "color": "seagreen"
         },
         "name": "1",
         "orientation": "h",
         "showlegend": true,
         "type": "bar",
         "x": [
          5
         ],
         "y": [
          "Job 3"
         ]
        },
        {
         "base": 5,
         "marker": {
          "color": "seagreen"
         },
         "name": "1",
         "orientation": "h",
         "showlegend": false,
         "type": "bar",
         "x": [
          8
         ],
         "y": [
          "Job 1"
         ]
        },
        {
         "base": 13,
         "marker": {
          "color": "dodgerblue"
         },
         "name": "2",
         "orientation": "h",
         "showlegend": false,
         "type": "bar",
         "x": [
          5
         ],
         "y": [
          "Job 1"
         ]
        },
        {
         "base": 5,
         "marker": {
          "color": "sienna"
         },
         "name": "0",
         "orientation": "h",
         "showlegend": true,
         "type": "bar",
         "x": [
          5
         ],
         "y": [
          "Job 3"
         ]
        },
        {
         "base": 13,
         "marker": {
          "color": "seagreen"
         },
         "name": "1",
         "orientation": "h",
         "showlegend": false,
         "type": "bar",
         "x": [
          3
         ],
         "y": [
          "Job 4"
         ]
        },
        {
         "base": 18,
         "marker": {
          "color": "turquoise"
         },
         "name": "4",
         "orientation": "h",
         "showlegend": true,
         "type": "bar",
         "x": [
          10
         ],
         "y": [
          "Job 1"
         ]
        },
        {
         "base": 18,
         "marker": {
          "color": "dodgerblue"
         },
         "name": "2",
         "orientation": "h",
         "showlegend": false,
         "type": "bar",
         "x": [
          5
         ],
         "y": [
          "Job 2"
         ]
        },
        {
         "base": 16,
         "marker": {
          "color": "seagreen"
         },
         "name": "1",
         "orientation": "h",
         "showlegend": false,
         "type": "bar",
         "x": [
          3
         ],
         "y": [
          "Job 5"
         ]
        },
        {
         "base": 23,
         "marker": {
          "color": "dodgerblue"
         },
         "name": "2",
         "orientation": "h",
         "showlegend": false,
         "type": "bar",
         "x": [
          5
         ],
         "y": [
          "Job 3"
         ]
        },
        {
         "base": 23,
         "marker": {
          "color": "orchid"
         },
         "name": "3",
         "orientation": "h",
         "showlegend": true,
         "type": "bar",
         "x": [
          4
         ],
         "y": [
          "Job 2"
         ]
        },
        {
         "base": 27,
         "marker": {
          "color": "gold"
         },
         "name": "5",
         "orientation": "h",
         "showlegend": true,
         "type": "bar",
         "x": [
          8
         ],
         "y": [
          "Job 2"
         ]
        },
        {
         "base": 27,
         "marker": {
          "color": "orchid"
         },
         "name": "3",
         "orientation": "h",
         "showlegend": false,
         "type": "bar",
         "x": [
          3
         ],
         "y": [
          "Job 5"
         ]
        },
        {
         "base": 28,
         "marker": {
          "color": "turquoise"
         },
         "name": "4",
         "orientation": "h",
         "showlegend": false,
         "type": "bar",
         "x": [
          5
         ],
         "y": [
          "Job 4"
         ]
        },
        {
         "base": 28,
         "marker": {
          "color": "dodgerblue"
         },
         "name": "2",
         "orientation": "h",
         "showlegend": false,
         "type": "bar",
         "x": [
          1
         ],
         "y": [
          "Job 0"
         ]
        },
        {
         "base": 29,
         "marker": {
          "color": "sienna"
         },
         "name": "0",
         "orientation": "h",
         "showlegend": false,
         "type": "bar",
         "x": [
          3
         ],
         "y": [
          "Job 0"
         ]
        },
        {
         "base": 30,
         "marker": {
          "color": "orchid"
         },
         "name": "3",
         "orientation": "h",
         "showlegend": false,
         "type": "bar",
         "x": [
          3
         ],
         "y": [
          "Job 3"
         ]
        },
        {
         "base": 32,
         "marker": {
          "color": "seagreen"
         },
         "name": "1",
         "orientation": "h",
         "showlegend": false,
         "type": "bar",
         "x": [
          6
         ],
         "y": [
          "Job 0"
         ]
        },
        {
         "base": 33,
         "marker": {
          "color": "turquoise"
         },
         "name": "4",
         "orientation": "h",
         "showlegend": false,
         "type": "bar",
         "x": [
          8
         ],
         "y": [
          "Job 3"
         ]
        },
        {
         "base": 35,
         "marker": {
          "color": "gold"
         },
         "name": "5",
         "orientation": "h",
         "showlegend": false,
         "type": "bar",
         "x": [
          10
         ],
         "y": [
          "Job 1"
         ]
        },
        {
         "base": 35,
         "marker": {
          "color": "sienna"
         },
         "name": "0",
         "orientation": "h",
         "showlegend": false,
         "type": "bar",
         "x": [
          9
         ],
         "y": [
          "Job 2"
         ]
        },
        {
         "base": 38,
         "marker": {
          "color": "orchid"
         },
         "name": "3",
         "orientation": "h",
         "showlegend": false,
         "type": "bar",
         "x": [
          7
         ],
         "y": [
          "Job 0"
         ]
        },
        {
         "base": 44,
         "marker": {
          "color": "seagreen"
         },
         "name": "1",
         "orientation": "h",
         "showlegend": false,
         "type": "bar",
         "x": [
          1
         ],
         "y": [
          "Job 2"
         ]
        },
        {
         "base": 45,
         "marker": {
          "color": "sienna"
         },
         "name": "0",
         "orientation": "h",
         "showlegend": false,
         "type": "bar",
         "x": [
          10
         ],
         "y": [
          "Job 1"
         ]
        },
        {
         "base": 45,
         "marker": {
          "color": "gold"
         },
         "name": "5",
         "orientation": "h",
         "showlegend": false,
         "type": "bar",
         "x": [
          9
         ],
         "y": [
          "Job 3"
         ]
        },
        {
         "base": 45,
         "marker": {
          "color": "turquoise"
         },
         "name": "4",
         "orientation": "h",
         "showlegend": false,
         "type": "bar",
         "x": [
          7
         ],
         "y": [
          "Job 2"
         ]
        },
        {
         "base": 54,
         "marker": {
          "color": "gold"
         },
         "name": "5",
         "orientation": "h",
         "showlegend": false,
         "type": "bar",
         "x": [
          9
         ],
         "y": [
          "Job 5"
         ]
        },
        {
         "base": 55,
         "marker": {
          "color": "orchid"
         },
         "name": "3",
         "orientation": "h",
         "showlegend": false,
         "type": "bar",
         "x": [
          4
         ],
         "y": [
          "Job 1"
         ]
        },
        {
         "base": 63,
         "marker": {
          "color": "sienna"
         },
         "name": "0",
         "orientation": "h",
         "showlegend": false,
         "type": "bar",
         "x": [
          10
         ],
         "y": [
          "Job 5"
         ]
        },
        {
         "base": 63,
         "marker": {
          "color": "gold"
         },
         "name": "5",
         "orientation": "h",
         "showlegend": false,
         "type": "bar",
         "x": [
          4
         ],
         "y": [
          "Job 4"
         ]
        },
        {
         "base": 67,
         "marker": {
          "color": "gold"
         },
         "name": "5",
         "orientation": "h",
         "showlegend": false,
         "type": "bar",
         "x": [
          3
         ],
         "y": [
          "Job 0"
         ]
        },
        {
         "base": 70,
         "marker": {
          "color": "turquoise"
         },
         "name": "4",
         "orientation": "h",
         "showlegend": false,
         "type": "bar",
         "x": [
          6
         ],
         "y": [
          "Job 0"
         ]
        },
        {
         "base": 73,
         "marker": {
          "color": "sienna"
         },
         "name": "0",
         "orientation": "h",
         "showlegend": false,
         "type": "bar",
         "x": [
          3
         ],
         "y": [
          "Job 4"
         ]
        },
        {
         "base": 76,
         "marker": {
          "color": "turquoise"
         },
         "name": "4",
         "orientation": "h",
         "showlegend": false,
         "type": "bar",
         "x": [
          4
         ],
         "y": [
          "Job 5"
         ]
        },
        {
         "base": 76,
         "marker": {
          "color": "orchid"
         },
         "name": "3",
         "orientation": "h",
         "showlegend": false,
         "type": "bar",
         "x": [
          1
         ],
         "y": [
          "Job 4"
         ]
        },
        {
         "base": 80,
         "marker": {
          "color": "dodgerblue"
         },
         "name": "2",
         "orientation": "h",
         "showlegend": false,
         "type": "bar",
         "x": [
          1
         ],
         "y": [
          "Job 5"
         ]
        }
       ],
       "layout": {
        "barmode": "stack",
        "template": {
         "data": {
          "bar": [
           {
            "error_x": {
             "color": "#2a3f5f"
            },
            "error_y": {
             "color": "#2a3f5f"
            },
            "marker": {
             "line": {
              "color": "#E5ECF6",
              "width": 0.5
             }
            },
            "type": "bar"
           }
          ],
          "barpolar": [
           {
            "marker": {
             "line": {
              "color": "#E5ECF6",
              "width": 0.5
             }
            },
            "type": "barpolar"
           }
          ],
          "carpet": [
           {
            "aaxis": {
             "endlinecolor": "#2a3f5f",
             "gridcolor": "white",
             "linecolor": "white",
             "minorgridcolor": "white",
             "startlinecolor": "#2a3f5f"
            },
            "baxis": {
             "endlinecolor": "#2a3f5f",
             "gridcolor": "white",
             "linecolor": "white",
             "minorgridcolor": "white",
             "startlinecolor": "#2a3f5f"
            },
            "type": "carpet"
           }
          ],
          "choropleth": [
           {
            "colorbar": {
             "outlinewidth": 0,
             "ticks": ""
            },
            "type": "choropleth"
           }
          ],
          "contour": [
           {
            "colorbar": {
             "outlinewidth": 0,
             "ticks": ""
            },
            "colorscale": [
             [
              0,
              "#0d0887"
             ],
             [
              0.1111111111111111,
              "#46039f"
             ],
             [
              0.2222222222222222,
              "#7201a8"
             ],
             [
              0.3333333333333333,
              "#9c179e"
             ],
             [
              0.4444444444444444,
              "#bd3786"
             ],
             [
              0.5555555555555556,
              "#d8576b"
             ],
             [
              0.6666666666666666,
              "#ed7953"
             ],
             [
              0.7777777777777778,
              "#fb9f3a"
             ],
             [
              0.8888888888888888,
              "#fdca26"
             ],
             [
              1,
              "#f0f921"
             ]
            ],
            "type": "contour"
           }
          ],
          "contourcarpet": [
           {
            "colorbar": {
             "outlinewidth": 0,
             "ticks": ""
            },
            "type": "contourcarpet"
           }
          ],
          "heatmap": [
           {
            "colorbar": {
             "outlinewidth": 0,
             "ticks": ""
            },
            "colorscale": [
             [
              0,
              "#0d0887"
             ],
             [
              0.1111111111111111,
              "#46039f"
             ],
             [
              0.2222222222222222,
              "#7201a8"
             ],
             [
              0.3333333333333333,
              "#9c179e"
             ],
             [
              0.4444444444444444,
              "#bd3786"
             ],
             [
              0.5555555555555556,
              "#d8576b"
             ],
             [
              0.6666666666666666,
              "#ed7953"
             ],
             [
              0.7777777777777778,
              "#fb9f3a"
             ],
             [
              0.8888888888888888,
              "#fdca26"
             ],
             [
              1,
              "#f0f921"
             ]
            ],
            "type": "heatmap"
           }
          ],
          "heatmapgl": [
           {
            "colorbar": {
             "outlinewidth": 0,
             "ticks": ""
            },
            "colorscale": [
             [
              0,
              "#0d0887"
             ],
             [
              0.1111111111111111,
              "#46039f"
             ],
             [
              0.2222222222222222,
              "#7201a8"
             ],
             [
              0.3333333333333333,
              "#9c179e"
             ],
             [
              0.4444444444444444,
              "#bd3786"
             ],
             [
              0.5555555555555556,
              "#d8576b"
             ],
             [
              0.6666666666666666,
              "#ed7953"
             ],
             [
              0.7777777777777778,
              "#fb9f3a"
             ],
             [
              0.8888888888888888,
              "#fdca26"
             ],
             [
              1,
              "#f0f921"
             ]
            ],
            "type": "heatmapgl"
           }
          ],
          "histogram": [
           {
            "marker": {
             "colorbar": {
              "outlinewidth": 0,
              "ticks": ""
             }
            },
            "type": "histogram"
           }
          ],
          "histogram2d": [
           {
            "colorbar": {
             "outlinewidth": 0,
             "ticks": ""
            },
            "colorscale": [
             [
              0,
              "#0d0887"
             ],
             [
              0.1111111111111111,
              "#46039f"
             ],
             [
              0.2222222222222222,
              "#7201a8"
             ],
             [
              0.3333333333333333,
              "#9c179e"
             ],
             [
              0.4444444444444444,
              "#bd3786"
             ],
             [
              0.5555555555555556,
              "#d8576b"
             ],
             [
              0.6666666666666666,
              "#ed7953"
             ],
             [
              0.7777777777777778,
              "#fb9f3a"
             ],
             [
              0.8888888888888888,
              "#fdca26"
             ],
             [
              1,
              "#f0f921"
             ]
            ],
            "type": "histogram2d"
           }
          ],
          "histogram2dcontour": [
           {
            "colorbar": {
             "outlinewidth": 0,
             "ticks": ""
            },
            "colorscale": [
             [
              0,
              "#0d0887"
             ],
             [
              0.1111111111111111,
              "#46039f"
             ],
             [
              0.2222222222222222,
              "#7201a8"
             ],
             [
              0.3333333333333333,
              "#9c179e"
             ],
             [
              0.4444444444444444,
              "#bd3786"
             ],
             [
              0.5555555555555556,
              "#d8576b"
             ],
             [
              0.6666666666666666,
              "#ed7953"
             ],
             [
              0.7777777777777778,
              "#fb9f3a"
             ],
             [
              0.8888888888888888,
              "#fdca26"
             ],
             [
              1,
              "#f0f921"
             ]
            ],
            "type": "histogram2dcontour"
           }
          ],
          "mesh3d": [
           {
            "colorbar": {
             "outlinewidth": 0,
             "ticks": ""
            },
            "type": "mesh3d"
           }
          ],
          "parcoords": [
           {
            "line": {
             "colorbar": {
              "outlinewidth": 0,
              "ticks": ""
             }
            },
            "type": "parcoords"
           }
          ],
          "pie": [
           {
            "automargin": true,
            "type": "pie"
           }
          ],
          "scatter": [
           {
            "marker": {
             "colorbar": {
              "outlinewidth": 0,
              "ticks": ""
             }
            },
            "type": "scatter"
           }
          ],
          "scatter3d": [
           {
            "line": {
             "colorbar": {
              "outlinewidth": 0,
              "ticks": ""
             }
            },
            "marker": {
             "colorbar": {
              "outlinewidth": 0,
              "ticks": ""
             }
            },
            "type": "scatter3d"
           }
          ],
          "scattercarpet": [
           {
            "marker": {
             "colorbar": {
              "outlinewidth": 0,
              "ticks": ""
             }
            },
            "type": "scattercarpet"
           }
          ],
          "scattergeo": [
           {
            "marker": {
             "colorbar": {
              "outlinewidth": 0,
              "ticks": ""
             }
            },
            "type": "scattergeo"
           }
          ],
          "scattergl": [
           {
            "marker": {
             "colorbar": {
              "outlinewidth": 0,
              "ticks": ""
             }
            },
            "type": "scattergl"
           }
          ],
          "scattermapbox": [
           {
            "marker": {
             "colorbar": {
              "outlinewidth": 0,
              "ticks": ""
             }
            },
            "type": "scattermapbox"
           }
          ],
          "scatterpolar": [
           {
            "marker": {
             "colorbar": {
              "outlinewidth": 0,
              "ticks": ""
             }
            },
            "type": "scatterpolar"
           }
          ],
          "scatterpolargl": [
           {
            "marker": {
             "colorbar": {
              "outlinewidth": 0,
              "ticks": ""
             }
            },
            "type": "scatterpolargl"
           }
          ],
          "scatterternary": [
           {
            "marker": {
             "colorbar": {
              "outlinewidth": 0,
              "ticks": ""
             }
            },
            "type": "scatterternary"
           }
          ],
          "surface": [
           {
            "colorbar": {
             "outlinewidth": 0,
             "ticks": ""
            },
            "colorscale": [
             [
              0,
              "#0d0887"
             ],
             [
              0.1111111111111111,
              "#46039f"
             ],
             [
              0.2222222222222222,
              "#7201a8"
             ],
             [
              0.3333333333333333,
              "#9c179e"
             ],
             [
              0.4444444444444444,
              "#bd3786"
             ],
             [
              0.5555555555555556,
              "#d8576b"
             ],
             [
              0.6666666666666666,
              "#ed7953"
             ],
             [
              0.7777777777777778,
              "#fb9f3a"
             ],
             [
              0.8888888888888888,
              "#fdca26"
             ],
             [
              1,
              "#f0f921"
             ]
            ],
            "type": "surface"
           }
          ],
          "table": [
           {
            "cells": {
             "fill": {
              "color": "#EBF0F8"
             },
             "line": {
              "color": "white"
             }
            },
            "header": {
             "fill": {
              "color": "#C8D4E3"
             },
             "line": {
              "color": "white"
             }
            },
            "type": "table"
           }
          ]
         },
         "layout": {
          "annotationdefaults": {
           "arrowcolor": "#2a3f5f",
           "arrowhead": 0,
           "arrowwidth": 1
          },
          "coloraxis": {
           "colorbar": {
            "outlinewidth": 0,
            "ticks": ""
           }
          },
          "colorscale": {
           "diverging": [
            [
             0,
             "#8e0152"
            ],
            [
             0.1,
             "#c51b7d"
            ],
            [
             0.2,
             "#de77ae"
            ],
            [
             0.3,
             "#f1b6da"
            ],
            [
             0.4,
             "#fde0ef"
            ],
            [
             0.5,
             "#f7f7f7"
            ],
            [
             0.6,
             "#e6f5d0"
            ],
            [
             0.7,
             "#b8e186"
            ],
            [
             0.8,
             "#7fbc41"
            ],
            [
             0.9,
             "#4d9221"
            ],
            [
             1,
             "#276419"
            ]
           ],
           "sequential": [
            [
             0,
             "#0d0887"
            ],
            [
             0.1111111111111111,
             "#46039f"
            ],
            [
             0.2222222222222222,
             "#7201a8"
            ],
            [
             0.3333333333333333,
             "#9c179e"
            ],
            [
             0.4444444444444444,
             "#bd3786"
            ],
            [
             0.5555555555555556,
             "#d8576b"
            ],
            [
             0.6666666666666666,
             "#ed7953"
            ],
            [
             0.7777777777777778,
             "#fb9f3a"
            ],
            [
             0.8888888888888888,
             "#fdca26"
            ],
            [
             1,
             "#f0f921"
            ]
           ],
           "sequentialminus": [
            [
             0,
             "#0d0887"
            ],
            [
             0.1111111111111111,
             "#46039f"
            ],
            [
             0.2222222222222222,
             "#7201a8"
            ],
            [
             0.3333333333333333,
             "#9c179e"
            ],
            [
             0.4444444444444444,
             "#bd3786"
            ],
            [
             0.5555555555555556,
             "#d8576b"
            ],
            [
             0.6666666666666666,
             "#ed7953"
            ],
            [
             0.7777777777777778,
             "#fb9f3a"
            ],
            [
             0.8888888888888888,
             "#fdca26"
            ],
            [
             1,
             "#f0f921"
            ]
           ]
          },
          "colorway": [
           "#636efa",
           "#EF553B",
           "#00cc96",
           "#ab63fa",
           "#FFA15A",
           "#19d3f3",
           "#FF6692",
           "#B6E880",
           "#FF97FF",
           "#FECB52"
          ],
          "font": {
           "color": "#2a3f5f"
          },
          "geo": {
           "bgcolor": "white",
           "lakecolor": "white",
           "landcolor": "#E5ECF6",
           "showlakes": true,
           "showland": true,
           "subunitcolor": "white"
          },
          "hoverlabel": {
           "align": "left"
          },
          "hovermode": "closest",
          "mapbox": {
           "style": "light"
          },
          "paper_bgcolor": "white",
          "plot_bgcolor": "#E5ECF6",
          "polar": {
           "angularaxis": {
            "gridcolor": "white",
            "linecolor": "white",
            "ticks": ""
           },
           "bgcolor": "#E5ECF6",
           "radialaxis": {
            "gridcolor": "white",
            "linecolor": "white",
            "ticks": ""
           }
          },
          "scene": {
           "xaxis": {
            "backgroundcolor": "#E5ECF6",
            "gridcolor": "white",
            "gridwidth": 2,
            "linecolor": "white",
            "showbackground": true,
            "ticks": "",
            "zerolinecolor": "white"
           },
           "yaxis": {
            "backgroundcolor": "#E5ECF6",
            "gridcolor": "white",
            "gridwidth": 2,
            "linecolor": "white",
            "showbackground": true,
            "ticks": "",
            "zerolinecolor": "white"
           },
           "zaxis": {
            "backgroundcolor": "#E5ECF6",
            "gridcolor": "white",
            "gridwidth": 2,
            "linecolor": "white",
            "showbackground": true,
            "ticks": "",
            "zerolinecolor": "white"
           }
          },
          "shapedefaults": {
           "line": {
            "color": "#2a3f5f"
           }
          },
          "ternary": {
           "aaxis": {
            "gridcolor": "white",
            "linecolor": "white",
            "ticks": ""
           },
           "baxis": {
            "gridcolor": "white",
            "linecolor": "white",
            "ticks": ""
           },
           "bgcolor": "#E5ECF6",
           "caxis": {
            "gridcolor": "white",
            "linecolor": "white",
            "ticks": ""
           }
          },
          "title": {
           "x": 0.05
          },
          "xaxis": {
           "automargin": true,
           "gridcolor": "white",
           "linecolor": "white",
           "ticks": "",
           "title": {
            "standoff": 15
           },
           "zerolinecolor": "white",
           "zerolinewidth": 2
          },
          "yaxis": {
           "automargin": true,
           "gridcolor": "white",
           "linecolor": "white",
           "ticks": "",
           "title": {
            "standoff": 15
           },
           "zerolinecolor": "white",
           "zerolinewidth": 2
          }
         }
        },
        "xaxis": {
         "automargin": true
        },
        "yaxis": {
         "automargin": true
        }
       }
      },
      "text/html": [
       "<div>\n",
       "        \n",
       "        \n",
       "            <div id=\"6ca6e031-b06b-4af4-924c-1ca2ab9c42b0\" class=\"plotly-graph-div\" style=\"height:525px; width:100%;\"></div>\n",
       "            <script type=\"text/javascript\">\n",
       "                require([\"plotly\"], function(Plotly) {\n",
       "                    window.PLOTLYENV=window.PLOTLYENV || {};\n",
       "                    \n",
       "                if (document.getElementById(\"6ca6e031-b06b-4af4-924c-1ca2ab9c42b0\")) {\n",
       "                    Plotly.newPlot(\n",
       "                        '6ca6e031-b06b-4af4-924c-1ca2ab9c42b0',\n",
       "                        [{\"base\": 0, \"marker\": {\"color\": \"dodgerblue\"}, \"name\": \"2\", \"orientation\": \"h\", \"showlegend\": true, \"type\": \"bar\", \"x\": [9], \"y\": [\"Job 4\"]}, {\"base\": 0, \"marker\": {\"color\": \"seagreen\"}, \"name\": \"1\", \"orientation\": \"h\", \"showlegend\": true, \"type\": \"bar\", \"x\": [5], \"y\": [\"Job 3\"]}, {\"base\": 5, \"marker\": {\"color\": \"seagreen\"}, \"name\": \"1\", \"orientation\": \"h\", \"showlegend\": false, \"type\": \"bar\", \"x\": [8], \"y\": [\"Job 1\"]}, {\"base\": 13, \"marker\": {\"color\": \"dodgerblue\"}, \"name\": \"2\", \"orientation\": \"h\", \"showlegend\": false, \"type\": \"bar\", \"x\": [5], \"y\": [\"Job 1\"]}, {\"base\": 5, \"marker\": {\"color\": \"sienna\"}, \"name\": \"0\", \"orientation\": \"h\", \"showlegend\": true, \"type\": \"bar\", \"x\": [5], \"y\": [\"Job 3\"]}, {\"base\": 13, \"marker\": {\"color\": \"seagreen\"}, \"name\": \"1\", \"orientation\": \"h\", \"showlegend\": false, \"type\": \"bar\", \"x\": [3], \"y\": [\"Job 4\"]}, {\"base\": 18, \"marker\": {\"color\": \"turquoise\"}, \"name\": \"4\", \"orientation\": \"h\", \"showlegend\": true, \"type\": \"bar\", \"x\": [10], \"y\": [\"Job 1\"]}, {\"base\": 18, \"marker\": {\"color\": \"dodgerblue\"}, \"name\": \"2\", \"orientation\": \"h\", \"showlegend\": false, \"type\": \"bar\", \"x\": [5], \"y\": [\"Job 2\"]}, {\"base\": 16, \"marker\": {\"color\": \"seagreen\"}, \"name\": \"1\", \"orientation\": \"h\", \"showlegend\": false, \"type\": \"bar\", \"x\": [3], \"y\": [\"Job 5\"]}, {\"base\": 23, \"marker\": {\"color\": \"dodgerblue\"}, \"name\": \"2\", \"orientation\": \"h\", \"showlegend\": false, \"type\": \"bar\", \"x\": [5], \"y\": [\"Job 3\"]}, {\"base\": 23, \"marker\": {\"color\": \"orchid\"}, \"name\": \"3\", \"orientation\": \"h\", \"showlegend\": true, \"type\": \"bar\", \"x\": [4], \"y\": [\"Job 2\"]}, {\"base\": 27, \"marker\": {\"color\": \"gold\"}, \"name\": \"5\", \"orientation\": \"h\", \"showlegend\": true, \"type\": \"bar\", \"x\": [8], \"y\": [\"Job 2\"]}, {\"base\": 27, \"marker\": {\"color\": \"orchid\"}, \"name\": \"3\", \"orientation\": \"h\", \"showlegend\": false, \"type\": \"bar\", \"x\": [3], \"y\": [\"Job 5\"]}, {\"base\": 28, \"marker\": {\"color\": \"turquoise\"}, \"name\": \"4\", \"orientation\": \"h\", \"showlegend\": false, \"type\": \"bar\", \"x\": [5], \"y\": [\"Job 4\"]}, {\"base\": 28, \"marker\": {\"color\": \"dodgerblue\"}, \"name\": \"2\", \"orientation\": \"h\", \"showlegend\": false, \"type\": \"bar\", \"x\": [1], \"y\": [\"Job 0\"]}, {\"base\": 29, \"marker\": {\"color\": \"sienna\"}, \"name\": \"0\", \"orientation\": \"h\", \"showlegend\": false, \"type\": \"bar\", \"x\": [3], \"y\": [\"Job 0\"]}, {\"base\": 30, \"marker\": {\"color\": \"orchid\"}, \"name\": \"3\", \"orientation\": \"h\", \"showlegend\": false, \"type\": \"bar\", \"x\": [3], \"y\": [\"Job 3\"]}, {\"base\": 32, \"marker\": {\"color\": \"seagreen\"}, \"name\": \"1\", \"orientation\": \"h\", \"showlegend\": false, \"type\": \"bar\", \"x\": [6], \"y\": [\"Job 0\"]}, {\"base\": 33, \"marker\": {\"color\": \"turquoise\"}, \"name\": \"4\", \"orientation\": \"h\", \"showlegend\": false, \"type\": \"bar\", \"x\": [8], \"y\": [\"Job 3\"]}, {\"base\": 35, \"marker\": {\"color\": \"gold\"}, \"name\": \"5\", \"orientation\": \"h\", \"showlegend\": false, \"type\": \"bar\", \"x\": [10], \"y\": [\"Job 1\"]}, {\"base\": 35, \"marker\": {\"color\": \"sienna\"}, \"name\": \"0\", \"orientation\": \"h\", \"showlegend\": false, \"type\": \"bar\", \"x\": [9], \"y\": [\"Job 2\"]}, {\"base\": 38, \"marker\": {\"color\": \"orchid\"}, \"name\": \"3\", \"orientation\": \"h\", \"showlegend\": false, \"type\": \"bar\", \"x\": [7], \"y\": [\"Job 0\"]}, {\"base\": 44, \"marker\": {\"color\": \"seagreen\"}, \"name\": \"1\", \"orientation\": \"h\", \"showlegend\": false, \"type\": \"bar\", \"x\": [1], \"y\": [\"Job 2\"]}, {\"base\": 45, \"marker\": {\"color\": \"sienna\"}, \"name\": \"0\", \"orientation\": \"h\", \"showlegend\": false, \"type\": \"bar\", \"x\": [10], \"y\": [\"Job 1\"]}, {\"base\": 45, \"marker\": {\"color\": \"gold\"}, \"name\": \"5\", \"orientation\": \"h\", \"showlegend\": false, \"type\": \"bar\", \"x\": [9], \"y\": [\"Job 3\"]}, {\"base\": 45, \"marker\": {\"color\": \"turquoise\"}, \"name\": \"4\", \"orientation\": \"h\", \"showlegend\": false, \"type\": \"bar\", \"x\": [7], \"y\": [\"Job 2\"]}, {\"base\": 54, \"marker\": {\"color\": \"gold\"}, \"name\": \"5\", \"orientation\": \"h\", \"showlegend\": false, \"type\": \"bar\", \"x\": [9], \"y\": [\"Job 5\"]}, {\"base\": 55, \"marker\": {\"color\": \"orchid\"}, \"name\": \"3\", \"orientation\": \"h\", \"showlegend\": false, \"type\": \"bar\", \"x\": [4], \"y\": [\"Job 1\"]}, {\"base\": 63, \"marker\": {\"color\": \"sienna\"}, \"name\": \"0\", \"orientation\": \"h\", \"showlegend\": false, \"type\": \"bar\", \"x\": [10], \"y\": [\"Job 5\"]}, {\"base\": 63, \"marker\": {\"color\": \"gold\"}, \"name\": \"5\", \"orientation\": \"h\", \"showlegend\": false, \"type\": \"bar\", \"x\": [4], \"y\": [\"Job 4\"]}, {\"base\": 67, \"marker\": {\"color\": \"gold\"}, \"name\": \"5\", \"orientation\": \"h\", \"showlegend\": false, \"type\": \"bar\", \"x\": [3], \"y\": [\"Job 0\"]}, {\"base\": 70, \"marker\": {\"color\": \"turquoise\"}, \"name\": \"4\", \"orientation\": \"h\", \"showlegend\": false, \"type\": \"bar\", \"x\": [6], \"y\": [\"Job 0\"]}, {\"base\": 73, \"marker\": {\"color\": \"sienna\"}, \"name\": \"0\", \"orientation\": \"h\", \"showlegend\": false, \"type\": \"bar\", \"x\": [3], \"y\": [\"Job 4\"]}, {\"base\": 76, \"marker\": {\"color\": \"turquoise\"}, \"name\": \"4\", \"orientation\": \"h\", \"showlegend\": false, \"type\": \"bar\", \"x\": [4], \"y\": [\"Job 5\"]}, {\"base\": 76, \"marker\": {\"color\": \"orchid\"}, \"name\": \"3\", \"orientation\": \"h\", \"showlegend\": false, \"type\": \"bar\", \"x\": [1], \"y\": [\"Job 4\"]}, {\"base\": 80, \"marker\": {\"color\": \"dodgerblue\"}, \"name\": \"2\", \"orientation\": \"h\", \"showlegend\": false, \"type\": \"bar\", \"x\": [1], \"y\": [\"Job 5\"]}],\n",
       "                        {\"barmode\": \"stack\", \"template\": {\"data\": {\"bar\": [{\"error_x\": {\"color\": \"#2a3f5f\"}, \"error_y\": {\"color\": \"#2a3f5f\"}, \"marker\": {\"line\": {\"color\": \"#E5ECF6\", \"width\": 0.5}}, \"type\": \"bar\"}], \"barpolar\": [{\"marker\": {\"line\": {\"color\": \"#E5ECF6\", \"width\": 0.5}}, \"type\": \"barpolar\"}], \"carpet\": [{\"aaxis\": {\"endlinecolor\": \"#2a3f5f\", \"gridcolor\": \"white\", \"linecolor\": \"white\", \"minorgridcolor\": \"white\", \"startlinecolor\": \"#2a3f5f\"}, \"baxis\": {\"endlinecolor\": \"#2a3f5f\", \"gridcolor\": \"white\", \"linecolor\": \"white\", \"minorgridcolor\": \"white\", \"startlinecolor\": \"#2a3f5f\"}, \"type\": \"carpet\"}], \"choropleth\": [{\"colorbar\": {\"outlinewidth\": 0, \"ticks\": \"\"}, \"type\": \"choropleth\"}], \"contour\": [{\"colorbar\": {\"outlinewidth\": 0, \"ticks\": \"\"}, \"colorscale\": [[0.0, \"#0d0887\"], [0.1111111111111111, \"#46039f\"], [0.2222222222222222, \"#7201a8\"], [0.3333333333333333, \"#9c179e\"], [0.4444444444444444, \"#bd3786\"], [0.5555555555555556, \"#d8576b\"], [0.6666666666666666, \"#ed7953\"], [0.7777777777777778, \"#fb9f3a\"], [0.8888888888888888, \"#fdca26\"], [1.0, \"#f0f921\"]], \"type\": \"contour\"}], \"contourcarpet\": [{\"colorbar\": {\"outlinewidth\": 0, \"ticks\": \"\"}, \"type\": \"contourcarpet\"}], \"heatmap\": [{\"colorbar\": {\"outlinewidth\": 0, \"ticks\": \"\"}, \"colorscale\": [[0.0, \"#0d0887\"], [0.1111111111111111, \"#46039f\"], [0.2222222222222222, \"#7201a8\"], [0.3333333333333333, \"#9c179e\"], [0.4444444444444444, \"#bd3786\"], [0.5555555555555556, \"#d8576b\"], [0.6666666666666666, \"#ed7953\"], [0.7777777777777778, \"#fb9f3a\"], [0.8888888888888888, \"#fdca26\"], [1.0, \"#f0f921\"]], \"type\": \"heatmap\"}], \"heatmapgl\": [{\"colorbar\": {\"outlinewidth\": 0, \"ticks\": \"\"}, \"colorscale\": [[0.0, \"#0d0887\"], [0.1111111111111111, \"#46039f\"], [0.2222222222222222, \"#7201a8\"], [0.3333333333333333, \"#9c179e\"], [0.4444444444444444, \"#bd3786\"], [0.5555555555555556, \"#d8576b\"], [0.6666666666666666, \"#ed7953\"], [0.7777777777777778, \"#fb9f3a\"], [0.8888888888888888, \"#fdca26\"], [1.0, \"#f0f921\"]], \"type\": \"heatmapgl\"}], \"histogram\": [{\"marker\": {\"colorbar\": {\"outlinewidth\": 0, \"ticks\": \"\"}}, \"type\": \"histogram\"}], \"histogram2d\": [{\"colorbar\": {\"outlinewidth\": 0, \"ticks\": \"\"}, \"colorscale\": [[0.0, \"#0d0887\"], [0.1111111111111111, \"#46039f\"], [0.2222222222222222, \"#7201a8\"], [0.3333333333333333, \"#9c179e\"], [0.4444444444444444, \"#bd3786\"], [0.5555555555555556, \"#d8576b\"], [0.6666666666666666, \"#ed7953\"], [0.7777777777777778, \"#fb9f3a\"], [0.8888888888888888, \"#fdca26\"], [1.0, \"#f0f921\"]], \"type\": \"histogram2d\"}], \"histogram2dcontour\": [{\"colorbar\": {\"outlinewidth\": 0, \"ticks\": \"\"}, \"colorscale\": [[0.0, \"#0d0887\"], [0.1111111111111111, \"#46039f\"], [0.2222222222222222, \"#7201a8\"], [0.3333333333333333, \"#9c179e\"], [0.4444444444444444, \"#bd3786\"], [0.5555555555555556, \"#d8576b\"], [0.6666666666666666, \"#ed7953\"], [0.7777777777777778, \"#fb9f3a\"], [0.8888888888888888, \"#fdca26\"], [1.0, \"#f0f921\"]], \"type\": \"histogram2dcontour\"}], \"mesh3d\": [{\"colorbar\": {\"outlinewidth\": 0, \"ticks\": \"\"}, \"type\": \"mesh3d\"}], \"parcoords\": [{\"line\": {\"colorbar\": {\"outlinewidth\": 0, \"ticks\": \"\"}}, \"type\": \"parcoords\"}], \"pie\": [{\"automargin\": true, \"type\": \"pie\"}], \"scatter\": [{\"marker\": {\"colorbar\": {\"outlinewidth\": 0, \"ticks\": \"\"}}, \"type\": \"scatter\"}], \"scatter3d\": [{\"line\": {\"colorbar\": {\"outlinewidth\": 0, \"ticks\": \"\"}}, \"marker\": {\"colorbar\": {\"outlinewidth\": 0, \"ticks\": \"\"}}, \"type\": \"scatter3d\"}], \"scattercarpet\": [{\"marker\": {\"colorbar\": {\"outlinewidth\": 0, \"ticks\": \"\"}}, \"type\": \"scattercarpet\"}], \"scattergeo\": [{\"marker\": {\"colorbar\": {\"outlinewidth\": 0, \"ticks\": \"\"}}, \"type\": \"scattergeo\"}], \"scattergl\": [{\"marker\": {\"colorbar\": {\"outlinewidth\": 0, \"ticks\": \"\"}}, \"type\": \"scattergl\"}], \"scattermapbox\": [{\"marker\": {\"colorbar\": {\"outlinewidth\": 0, \"ticks\": \"\"}}, \"type\": \"scattermapbox\"}], \"scatterpolar\": [{\"marker\": {\"colorbar\": {\"outlinewidth\": 0, \"ticks\": \"\"}}, \"type\": \"scatterpolar\"}], \"scatterpolargl\": [{\"marker\": {\"colorbar\": {\"outlinewidth\": 0, \"ticks\": \"\"}}, \"type\": \"scatterpolargl\"}], \"scatterternary\": [{\"marker\": {\"colorbar\": {\"outlinewidth\": 0, \"ticks\": \"\"}}, \"type\": \"scatterternary\"}], \"surface\": [{\"colorbar\": {\"outlinewidth\": 0, \"ticks\": \"\"}, \"colorscale\": [[0.0, \"#0d0887\"], [0.1111111111111111, \"#46039f\"], [0.2222222222222222, \"#7201a8\"], [0.3333333333333333, \"#9c179e\"], [0.4444444444444444, \"#bd3786\"], [0.5555555555555556, \"#d8576b\"], [0.6666666666666666, \"#ed7953\"], [0.7777777777777778, \"#fb9f3a\"], [0.8888888888888888, \"#fdca26\"], [1.0, \"#f0f921\"]], \"type\": \"surface\"}], \"table\": [{\"cells\": {\"fill\": {\"color\": \"#EBF0F8\"}, \"line\": {\"color\": \"white\"}}, \"header\": {\"fill\": {\"color\": \"#C8D4E3\"}, \"line\": {\"color\": \"white\"}}, \"type\": \"table\"}]}, \"layout\": {\"annotationdefaults\": {\"arrowcolor\": \"#2a3f5f\", \"arrowhead\": 0, \"arrowwidth\": 1}, \"coloraxis\": {\"colorbar\": {\"outlinewidth\": 0, \"ticks\": \"\"}}, \"colorscale\": {\"diverging\": [[0, \"#8e0152\"], [0.1, \"#c51b7d\"], [0.2, \"#de77ae\"], [0.3, \"#f1b6da\"], [0.4, \"#fde0ef\"], [0.5, \"#f7f7f7\"], [0.6, \"#e6f5d0\"], [0.7, \"#b8e186\"], [0.8, \"#7fbc41\"], [0.9, \"#4d9221\"], [1, \"#276419\"]], \"sequential\": [[0.0, \"#0d0887\"], [0.1111111111111111, \"#46039f\"], [0.2222222222222222, \"#7201a8\"], [0.3333333333333333, \"#9c179e\"], [0.4444444444444444, \"#bd3786\"], [0.5555555555555556, \"#d8576b\"], [0.6666666666666666, \"#ed7953\"], [0.7777777777777778, \"#fb9f3a\"], [0.8888888888888888, \"#fdca26\"], [1.0, \"#f0f921\"]], \"sequentialminus\": [[0.0, \"#0d0887\"], [0.1111111111111111, \"#46039f\"], [0.2222222222222222, \"#7201a8\"], [0.3333333333333333, \"#9c179e\"], [0.4444444444444444, \"#bd3786\"], [0.5555555555555556, \"#d8576b\"], [0.6666666666666666, \"#ed7953\"], [0.7777777777777778, \"#fb9f3a\"], [0.8888888888888888, \"#fdca26\"], [1.0, \"#f0f921\"]]}, \"colorway\": [\"#636efa\", \"#EF553B\", \"#00cc96\", \"#ab63fa\", \"#FFA15A\", \"#19d3f3\", \"#FF6692\", \"#B6E880\", \"#FF97FF\", \"#FECB52\"], \"font\": {\"color\": \"#2a3f5f\"}, \"geo\": {\"bgcolor\": \"white\", \"lakecolor\": \"white\", \"landcolor\": \"#E5ECF6\", \"showlakes\": true, \"showland\": true, \"subunitcolor\": \"white\"}, \"hoverlabel\": {\"align\": \"left\"}, \"hovermode\": \"closest\", \"mapbox\": {\"style\": \"light\"}, \"paper_bgcolor\": \"white\", \"plot_bgcolor\": \"#E5ECF6\", \"polar\": {\"angularaxis\": {\"gridcolor\": \"white\", \"linecolor\": \"white\", \"ticks\": \"\"}, \"bgcolor\": \"#E5ECF6\", \"radialaxis\": {\"gridcolor\": \"white\", \"linecolor\": \"white\", \"ticks\": \"\"}}, \"scene\": {\"xaxis\": {\"backgroundcolor\": \"#E5ECF6\", \"gridcolor\": \"white\", \"gridwidth\": 2, \"linecolor\": \"white\", \"showbackground\": true, \"ticks\": \"\", \"zerolinecolor\": \"white\"}, \"yaxis\": {\"backgroundcolor\": \"#E5ECF6\", \"gridcolor\": \"white\", \"gridwidth\": 2, \"linecolor\": \"white\", \"showbackground\": true, \"ticks\": \"\", \"zerolinecolor\": \"white\"}, \"zaxis\": {\"backgroundcolor\": \"#E5ECF6\", \"gridcolor\": \"white\", \"gridwidth\": 2, \"linecolor\": \"white\", \"showbackground\": true, \"ticks\": \"\", \"zerolinecolor\": \"white\"}}, \"shapedefaults\": {\"line\": {\"color\": \"#2a3f5f\"}}, \"ternary\": {\"aaxis\": {\"gridcolor\": \"white\", \"linecolor\": \"white\", \"ticks\": \"\"}, \"baxis\": {\"gridcolor\": \"white\", \"linecolor\": \"white\", \"ticks\": \"\"}, \"bgcolor\": \"#E5ECF6\", \"caxis\": {\"gridcolor\": \"white\", \"linecolor\": \"white\", \"ticks\": \"\"}}, \"title\": {\"x\": 0.05}, \"xaxis\": {\"automargin\": true, \"gridcolor\": \"white\", \"linecolor\": \"white\", \"ticks\": \"\", \"title\": {\"standoff\": 15}, \"zerolinecolor\": \"white\", \"zerolinewidth\": 2}, \"yaxis\": {\"automargin\": true, \"gridcolor\": \"white\", \"linecolor\": \"white\", \"ticks\": \"\", \"title\": {\"standoff\": 15}, \"zerolinecolor\": \"white\", \"zerolinewidth\": 2}}}, \"xaxis\": {\"automargin\": true}, \"yaxis\": {\"automargin\": true}},\n",
       "                        {\"responsive\": true}\n",
       "                    ).then(function(){\n",
       "                            \n",
       "var gd = document.getElementById('6ca6e031-b06b-4af4-924c-1ca2ab9c42b0');\n",
       "var x = new MutationObserver(function (mutations, observer) {{\n",
       "        var display = window.getComputedStyle(gd).display;\n",
       "        if (!display || display === 'none') {{\n",
       "            console.log([gd, 'removed!']);\n",
       "            Plotly.purge(gd);\n",
       "            observer.disconnect();\n",
       "        }}\n",
       "}});\n",
       "\n",
       "// Listen for the removal of the full notebook cells\n",
       "var notebookContainer = gd.closest('#notebook-container');\n",
       "if (notebookContainer) {{\n",
       "    x.observe(notebookContainer, {childList: true});\n",
       "}}\n",
       "\n",
       "// Listen for the clearing of the current output cell\n",
       "var outputEl = gd.closest('.output');\n",
       "if (outputEl) {{\n",
       "    x.observe(outputEl, {childList: true});\n",
       "}}\n",
       "\n",
       "                        })\n",
       "                };\n",
       "                });\n",
       "            </script>\n",
       "        </div>"
      ]
     },
     "metadata": {},
     "output_type": "display_data"
    },
    {
     "name": "stdout",
     "output_type": "stream",
     "text": [
      "Time :  81\n"
     ]
    }
   ],
   "source": [
    "import plotly.graph_objs as go\n",
    "from plotly.offline import init_notebook_mode, iplot\n",
    "\n",
    "class Instance_descente():\n",
    "    def __init__(self,repetition_order,jobs):\n",
    "        self.repetition_order = repetition_order\n",
    "        self.jobs = jobs\n",
    "\n",
    "    def compute(self,display_gantt=True):\n",
    "        if(display_gantt):\n",
    "            colors = {}\n",
    "#             list_colors = list(matplotlib.colors.cnames.keys())\n",
    "            list_colors = ['dodgerblue','seagreen','sienna','turquoise','orchid','gold','black','white']\n",
    "            fig = go.Figure(\n",
    "                layout = {\n",
    "                    'barmode': 'stack',\n",
    "                    'xaxis': {'automargin': True},\n",
    "                    'yaxis': {'automargin': True}}#, 'categoryorder': 'category ascending'}}\n",
    "            )\n",
    "        job_task_index = [0] * len(self.jobs)\n",
    "        for j in jobs:\n",
    "            j.reset()\n",
    "            j.init_possible_start()\n",
    "        for i in self.repetition_order:\n",
    "            ressource_used,start_time, end_time = jobs[i].start_task_at_possible_time(job_task_index[i])\n",
    "            if(display_gantt):\n",
    "                show_legend = False\n",
    "                if(str(ressource_used) not in colors.keys()):\n",
    "                    color_picked = list_colors[0]\n",
    "                    list_colors.remove(color_picked)\n",
    "                    colors[str(ressource_used)] =  color_picked\n",
    "                    show_legend = True\n",
    "\n",
    "                fig.add_bar(x=[end_time-start_time],\n",
    "                    y=['Job ' + str(i)],\n",
    "                    base=start_time,\n",
    "                    orientation='h',\n",
    "                    showlegend=show_legend,\n",
    "                    name=str(ressource_used),\n",
    "                    marker={'color': colors[str(ressource_used)]}) \n",
    "\n",
    "            \n",
    "            job_task_index[i] = job_task_index[i] + 1\n",
    "            for j in self.jobs:\n",
    "                j.update_possible_time_by_ressource(ressource_used,end_time)\n",
    "\n",
    "        if(display_gantt): iplot(fig)\n",
    "   \n",
    "    def get_end_time(self):\n",
    "        max_jobs = []\n",
    "        for j in self.jobs:\n",
    "            max_jobs.append(j.get_end_time())\n",
    "        return max(max_jobs)\n",
    "            \n",
    "    def swap(self,ind1,ind2):\n",
    "        c = self.repetition_order[ind1]\n",
    "        self.repetition_order[ind1] = self.repetition_order[ind2]\n",
    "        self.repetition_order[ind2] = c\n",
    "\n",
    "            \n",
    "            \n",
    "        \n",
    "instance_descente = Instance_descente(instance.repetition_order.copy(),instance.jobs.copy())  \n",
    "print('Repetition order from heuristic : ', instance_descente.repetition_order)\n",
    "instance_descente.compute(display_gantt=True)\n",
    "print('Time : ',instance_descente.get_end_time())\n",
    "instance_descente.swap(1,2)\n",
    "print('Repetitionn order with swap ''stance_descente.repetition_order)\n",
    "instance_descente.compute(display_gantt=True)\n",
    "print('Time : ',instance_descente.get_end_time())"
   ]
  },
  {
   "cell_type": "code",
   "execution_count": 154,
   "metadata": {},
   "outputs": [
    {
     "name": "stdout",
     "output_type": "stream",
     "text": [
      "aliceblue #F0F8FF\n",
      "antiquewhite #FAEBD7\n",
      "aqua #00FFFF\n",
      "aquamarine #7FFFD4\n",
      "azure #F0FFFF\n",
      "beige #F5F5DC\n",
      "bisque #FFE4C4\n",
      "black #000000\n",
      "blanchedalmond #FFEBCD\n",
      "blue #0000FF\n",
      "blueviolet #8A2BE2\n",
      "brown #A52A2A\n",
      "burlywood #DEB887\n",
      "cadetblue #5F9EA0\n",
      "chartreuse #7FFF00\n",
      "chocolate #D2691E\n",
      "coral #FF7F50\n",
      "cornflowerblue #6495ED\n",
      "cornsilk #FFF8DC\n",
      "crimson #DC143C\n",
      "cyan #00FFFF\n",
      "darkblue #00008B\n",
      "darkcyan #008B8B\n",
      "darkgoldenrod #B8860B\n",
      "darkgray #A9A9A9\n",
      "darkgreen #006400\n",
      "darkgrey #A9A9A9\n",
      "darkkhaki #BDB76B\n",
      "darkmagenta #8B008B\n",
      "darkolivegreen #556B2F\n",
      "darkorange #FF8C00\n",
      "darkorchid #9932CC\n",
      "darkred #8B0000\n",
      "darksalmon #E9967A\n",
      "darkseagreen #8FBC8F\n",
      "darkslateblue #483D8B\n",
      "darkslategray #2F4F4F\n",
      "darkslategrey #2F4F4F\n",
      "darkturquoise #00CED1\n",
      "darkviolet #9400D3\n",
      "deeppink #FF1493\n",
      "deepskyblue #00BFFF\n",
      "dimgray #696969\n",
      "dimgrey #696969\n",
      "dodgerblue #1E90FF\n",
      "firebrick #B22222\n",
      "floralwhite #FFFAF0\n",
      "forestgreen #228B22\n",
      "fuchsia #FF00FF\n",
      "gainsboro #DCDCDC\n",
      "ghostwhite #F8F8FF\n",
      "gold #FFD700\n",
      "goldenrod #DAA520\n",
      "gray #808080\n",
      "green #008000\n",
      "greenyellow #ADFF2F\n",
      "grey #808080\n",
      "honeydew #F0FFF0\n",
      "hotpink #FF69B4\n",
      "indianred #CD5C5C\n",
      "indigo #4B0082\n",
      "ivory #FFFFF0\n",
      "khaki #F0E68C\n",
      "lavender #E6E6FA\n",
      "lavenderblush #FFF0F5\n",
      "lawngreen #7CFC00\n",
      "lemonchiffon #FFFACD\n",
      "lightblue #ADD8E6\n",
      "lightcoral #F08080\n",
      "lightcyan #E0FFFF\n",
      "lightgoldenrodyellow #FAFAD2\n",
      "lightgray #D3D3D3\n",
      "lightgreen #90EE90\n",
      "lightgrey #D3D3D3\n",
      "lightpink #FFB6C1\n",
      "lightsalmon #FFA07A\n",
      "lightseagreen #20B2AA\n",
      "lightskyblue #87CEFA\n",
      "lightslategray #778899\n",
      "lightslategrey #778899\n",
      "lightsteelblue #B0C4DE\n",
      "lightyellow #FFFFE0\n",
      "lime #00FF00\n",
      "limegreen #32CD32\n",
      "linen #FAF0E6\n",
      "magenta #FF00FF\n",
      "maroon #800000\n",
      "mediumaquamarine #66CDAA\n",
      "mediumblue #0000CD\n",
      "mediumorchid #BA55D3\n",
      "mediumpurple #9370DB\n",
      "mediumseagreen #3CB371\n",
      "mediumslateblue #7B68EE\n",
      "mediumspringgreen #00FA9A\n",
      "mediumturquoise #48D1CC\n",
      "mediumvioletred #C71585\n",
      "midnightblue #191970\n",
      "mintcream #F5FFFA\n",
      "mistyrose #FFE4E1\n",
      "moccasin #FFE4B5\n",
      "navajowhite #FFDEAD\n",
      "navy #000080\n",
      "oldlace #FDF5E6\n",
      "olive #808000\n",
      "olivedrab #6B8E23\n",
      "orange #FFA500\n",
      "orangered #FF4500\n",
      "orchid #DA70D6\n",
      "palegoldenrod #EEE8AA\n",
      "palegreen #98FB98\n",
      "paleturquoise #AFEEEE\n",
      "palevioletred #DB7093\n",
      "papayawhip #FFEFD5\n",
      "peachpuff #FFDAB9\n",
      "peru #CD853F\n",
      "pink #FFC0CB\n",
      "plum #DDA0DD\n",
      "powderblue #B0E0E6\n",
      "purple #800080\n",
      "rebeccapurple #663399\n",
      "red #FF0000\n",
      "rosybrown #BC8F8F\n",
      "royalblue #4169E1\n",
      "saddlebrown #8B4513\n",
      "salmon #FA8072\n",
      "sandybrown #F4A460\n",
      "seagreen #2E8B57\n",
      "seashell #FFF5EE\n",
      "sienna #A0522D\n",
      "silver #C0C0C0\n",
      "skyblue #87CEEB\n",
      "slateblue #6A5ACD\n",
      "slategray #708090\n",
      "slategrey #708090\n",
      "snow #FFFAFA\n",
      "springgreen #00FF7F\n",
      "steelblue #4682B4\n",
      "tan #D2B48C\n",
      "teal #008080\n",
      "thistle #D8BFD8\n",
      "tomato #FF6347\n",
      "turquoise #40E0D0\n",
      "violet #EE82EE\n",
      "wheat #F5DEB3\n",
      "white #FFFFFF\n",
      "whitesmoke #F5F5F5\n",
      "yellow #FFFF00\n",
      "yellowgreen #9ACD32\n"
     ]
    }
   ],
   "source": [
    "import matplotlib\n",
    "for name,hexa in matplotlib.colors.cnames.items():\n",
    "    print(name,hexa)\n",
    " \n",
    "    "
   ]
  },
  {
   "cell_type": "code",
   "execution_count": 27,
   "metadata": {},
   "outputs": [
    {
     "data": {
      "text/plain": [
       "[4, 5]"
      ]
     },
     "execution_count": 27,
     "metadata": {},
     "output_type": "execute_result"
    }
   ],
   "source": [
    "a[2:]"
   ]
  },
  {
   "cell_type": "code",
   "execution_count": 17,
   "metadata": {},
   "outputs": [
    {
     "name": "stdout",
     "output_type": "stream",
     "text": [
      "None\n"
     ]
    }
   ],
   "source": []
  },
  {
   "cell_type": "code",
   "execution_count": null,
   "metadata": {},
   "outputs": [],
   "source": []
  },
  {
   "cell_type": "code",
   "execution_count": null,
   "metadata": {},
   "outputs": [],
   "source": []
  },
  {
   "cell_type": "code",
   "execution_count": null,
   "metadata": {},
   "outputs": [],
   "source": []
  }
 ],
 "metadata": {
  "kernelspec": {
   "display_name": "Python 3",
   "language": "python",
   "name": "python3"
  },
  "language_info": {
   "codemirror_mode": {
    "name": "ipython",
    "version": 3
   },
   "file_extension": ".py",
   "mimetype": "text/x-python",
   "name": "python",
   "nbconvert_exporter": "python",
   "pygments_lexer": "ipython3",
   "version": "3.7.5"
  }
 },
 "nbformat": 4,
 "nbformat_minor": 2
}
